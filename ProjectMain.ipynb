{
 "cells": [
  {
   "cell_type": "markdown",
   "metadata": {},
   "source": [
    "# Unveiling Bias: Analyzing Political Sentiment, Emotion, and Sensationalism in Media"
   ]
  },
  {
   "cell_type": "code",
   "execution_count": 2,
   "metadata": {},
   "outputs": [],
   "source": [
    "import pandas as pd\n",
    "\n",
    "\n",
    "df = pd.read_csv(\"hf://datasets/Faith1712/Allsides_political_bias_proper/allsides_data_unstructured.zip\")"
   ]
  },
  {
   "cell_type": "code",
   "execution_count": 7,
   "metadata": {},
   "outputs": [
    {
     "data": {
      "text/html": [
       "<div>\n",
       "<style scoped>\n",
       "    .dataframe tbody tr th:only-of-type {\n",
       "        vertical-align: middle;\n",
       "    }\n",
       "\n",
       "    .dataframe tbody tr th {\n",
       "        vertical-align: top;\n",
       "    }\n",
       "\n",
       "    .dataframe thead th {\n",
       "        text-align: right;\n",
       "    }\n",
       "</style>\n",
       "<table border=\"1\" class=\"dataframe\">\n",
       "  <thead>\n",
       "    <tr style=\"text-align: right;\">\n",
       "      <th></th>\n",
       "      <th>text</th>\n",
       "      <th>label</th>\n",
       "    </tr>\n",
       "  </thead>\n",
       "  <tbody>\n",
       "    <tr>\n",
       "      <th>0</th>\n",
       "      <td>Rep. Elijah Cummings, D-Md., speaks during a luncheon at the National Press Club in Washington in August.                                      Patrick Semansky/AP                            hide caption              toggle caption              Patrick Semansky/AP                                           Rep. Elijah Cummings, D-Md., speaks during a luncheon at the National Press Club in Washington in August.                  Patrick Semansky/AP                  Updated at 11:10 a.m. ET  Rep. Elijah E. Cummings, a Baltimore attorney and civil rights advocate who served in Maryland's legislature before representing the state in the U.S. House, where he took on a lead role in investigating President Trump, has died. He was 68.  Cummings, the head of the powerful House Committee on Oversight and Reform, died early Thursday at Johns Hopkins Hospital from complications related to longstanding health challenges, according to The Associated Press.  \"He worked until his last breath because he believed our democracy was the highest and best expression of our collective humanity and that our nation's diversity was our promise, not our problem,\" said Cummings' wife, Maryland Democratic Par...</td>\n",
       "      <td>1</td>\n",
       "    </tr>\n",
       "    <tr>\n",
       "      <th>1</th>\n",
       "      <td>President         Barack Obama    narrowly won re-election, overcoming public doubts about his performance on the economy—doubts that challenger         Mitt Romney    appeared well-positioned to exploit.For         Mr. Obama,    the victory sets up a test of whether he can forge a productive second term in a divided political system.                                         A review of how President Obama won re-election, including where the balance of power sits in Washington. Photo: Reuters.                                                                                                                                          The U.S. Presidential election was watched closely around the world, perhaps no more so than in Europe. WSJ London Bureau Chief Bruce Orwall joins the News Hub with European-focused foreign policy questions facing Barack Obama. Photo: Getty Images.                                                                                                                                          WSJ Economics Reporter Brian Blackstone joins the News Hub from Germany to discuss the impact of the Presidential election on European financial issues. Photo: Getty Images. ...</td>\n",
       "      <td>1</td>\n",
       "    </tr>\n",
       "    <tr>\n",
       "      <th>2</th>\n",
       "      <td>Infrastructure negotiations between President Biden and a group of Republicans led by Sen. Shelley Moore Capito (R-W.Va.) have officially broken down, and Biden now plans to turn his attention toward striking a deal with a separate, bipartisan group of senators, administration officials said Tuesday night.What we're hearing: When Biden and Capito spoke by phone on Tuesday, the call only lasted a few minutes, and it was clear that the two sides remain too far apart to find a compromise. The two parties still hadn't agreed on how to define what constitutes infrastructure, let alone set a price tag or way to pay for it.What they're saying: Biden \"informed Sen. Capito today that the latest offer from her group did not, in his view, meet the essential needs of our country,\" White House press secretary Jen Psaki said.\"He offered his gratitude to her for her efforts and good faith conversations, but expressed his disappointment that, while he was willing to reduce his plan by more than $1 trillion, the Republican group had increased their proposed new investments by only $150 billion.\"“While I appreciate President Biden’s willingness to devote so much time and effort to these negotiat...</td>\n",
       "      <td>1</td>\n",
       "    </tr>\n",
       "    <tr>\n",
       "      <th>3</th>\n",
       "      <td>The breakneck pace of hiring slumped in February, a sign that U.S. growth is cooling, though strong wage growth and earlier robust job gains suggest the economy’s near decadelong expansion will endure. U.S. nonfarm payrolls rose a seasonally adjusted 20,000 in February, the Labor Department said Friday, marking the slowest pace for job growth since September 2017—when hurricanes skewed hiring patterns—and falling well below economists’ expectations for 180,000 new jobs.                Some of February’s weak job growth might have been a response to strong hiring in previous months. Payrolls grew 311,000 in January and 227,000 in December. The three-month average for job gains clocked in at 186,000, near the average for much of the expansion.      The unemployment rate dropped to 3.8% in February from 4% the month before, returning to a level last seen in October. Wages grew at the fastest pace in nearly a decade.          For months, strong U.S. job growth has been a counterpoint to other economic disturbances, including a partial federal-government shutdown in late December and January, a sputtering U.S. housing sector and a global economic slowdown.     “The labor market has ...</td>\n",
       "      <td>1</td>\n",
       "    </tr>\n",
       "    <tr>\n",
       "      <th>4</th>\n",
       "      <td>Senate Minority Leader Mitch McConnellAddison (Mitch) Mitchell McConnellRepublicans take cheap shots at Fed nominees Republicans do not have a right to remain silent White House uses GOP's own rhetoric to rebut Supreme Court criticisms MORE (R-Ky.) said on Wednesday that he's barely spoken to President BidenJoe BidenCory Booker and Rosario Dawson have reportedly split US ups estimate of Russian forces on Ukraine border to 130,000 Harris heads to Munich at pivotal moment MORE since the Jan. 20 inauguration, accusing the White House of shifting to the \"hard left.\"\"I don't believe I've spoken with him since he was sworn in,\" McConnell said during an interview with Fox News, adding that he hadn't been invited to the White House either.Spokespeople for McConnell didn't immediately respond to a request for comment, but clarified to CNN that while they had spoken since the Jan. 20 inauguration, they haven't talked about the agenda.McConnell previously told reporters on Feb. 2 that he and Biden had spoken about Myanmar and the budget process and coronavirus relief. Democrats used a special process known as budget reconciliation to pass their sweeping $1.9 trillion bill over GOP objecti...</td>\n",
       "      <td>1</td>\n",
       "    </tr>\n",
       "  </tbody>\n",
       "</table>\n",
       "</div>"
      ],
      "text/plain": [
       "                                                                                                                                                                                                                                                                                                                                                                                                                                                                                                                                                                                                                                                                                                                                                                                                                                                                                                                                                                                                                                                                                                                                                                                                                                              text  \\\n",
       "0  Rep. Elijah Cummings, D-Md., speaks during a luncheon at the National Press Club in Washington in August.                                      Patrick Semansky/AP                            hide caption              toggle caption              Patrick Semansky/AP                                           Rep. Elijah Cummings, D-Md., speaks during a luncheon at the National Press Club in Washington in August.                  Patrick Semansky/AP                  Updated at 11:10 a.m. ET  Rep. Elijah E. Cummings, a Baltimore attorney and civil rights advocate who served in Maryland's legislature before representing the state in the U.S. House, where he took on a lead role in investigating President Trump, has died. He was 68.  Cummings, the head of the powerful House Committee on Oversight and Reform, died early Thursday at Johns Hopkins Hospital from complications related to longstanding health challenges, according to The Associated Press.  \"He worked until his last breath because he believed our democracy was the highest and best expression of our collective humanity and that our nation's diversity was our promise, not our problem,\" said Cummings' wife, Maryland Democratic Par...   \n",
       "1  President         Barack Obama    narrowly won re-election, overcoming public doubts about his performance on the economy—doubts that challenger         Mitt Romney    appeared well-positioned to exploit.For         Mr. Obama,    the victory sets up a test of whether he can forge a productive second term in a divided political system.                                         A review of how President Obama won re-election, including where the balance of power sits in Washington. Photo: Reuters.                                                                                                                                          The U.S. Presidential election was watched closely around the world, perhaps no more so than in Europe. WSJ London Bureau Chief Bruce Orwall joins the News Hub with European-focused foreign policy questions facing Barack Obama. Photo: Getty Images.                                                                                                                                          WSJ Economics Reporter Brian Blackstone joins the News Hub from Germany to discuss the impact of the Presidential election on European financial issues. Photo: Getty Images. ...   \n",
       "2  Infrastructure negotiations between President Biden and a group of Republicans led by Sen. Shelley Moore Capito (R-W.Va.) have officially broken down, and Biden now plans to turn his attention toward striking a deal with a separate, bipartisan group of senators, administration officials said Tuesday night.What we're hearing: When Biden and Capito spoke by phone on Tuesday, the call only lasted a few minutes, and it was clear that the two sides remain too far apart to find a compromise. The two parties still hadn't agreed on how to define what constitutes infrastructure, let alone set a price tag or way to pay for it.What they're saying: Biden \"informed Sen. Capito today that the latest offer from her group did not, in his view, meet the essential needs of our country,\" White House press secretary Jen Psaki said.\"He offered his gratitude to her for her efforts and good faith conversations, but expressed his disappointment that, while he was willing to reduce his plan by more than $1 trillion, the Republican group had increased their proposed new investments by only $150 billion.\"“While I appreciate President Biden’s willingness to devote so much time and effort to these negotiat...   \n",
       "3  The breakneck pace of hiring slumped in February, a sign that U.S. growth is cooling, though strong wage growth and earlier robust job gains suggest the economy’s near decadelong expansion will endure. U.S. nonfarm payrolls rose a seasonally adjusted 20,000 in February, the Labor Department said Friday, marking the slowest pace for job growth since September 2017—when hurricanes skewed hiring patterns—and falling well below economists’ expectations for 180,000 new jobs.                Some of February’s weak job growth might have been a response to strong hiring in previous months. Payrolls grew 311,000 in January and 227,000 in December. The three-month average for job gains clocked in at 186,000, near the average for much of the expansion.      The unemployment rate dropped to 3.8% in February from 4% the month before, returning to a level last seen in October. Wages grew at the fastest pace in nearly a decade.          For months, strong U.S. job growth has been a counterpoint to other economic disturbances, including a partial federal-government shutdown in late December and January, a sputtering U.S. housing sector and a global economic slowdown.     “The labor market has ...   \n",
       "4  Senate Minority Leader Mitch McConnellAddison (Mitch) Mitchell McConnellRepublicans take cheap shots at Fed nominees Republicans do not have a right to remain silent White House uses GOP's own rhetoric to rebut Supreme Court criticisms MORE (R-Ky.) said on Wednesday that he's barely spoken to President BidenJoe BidenCory Booker and Rosario Dawson have reportedly split US ups estimate of Russian forces on Ukraine border to 130,000 Harris heads to Munich at pivotal moment MORE since the Jan. 20 inauguration, accusing the White House of shifting to the \"hard left.\"\"I don't believe I've spoken with him since he was sworn in,\" McConnell said during an interview with Fox News, adding that he hadn't been invited to the White House either.Spokespeople for McConnell didn't immediately respond to a request for comment, but clarified to CNN that while they had spoken since the Jan. 20 inauguration, they haven't talked about the agenda.McConnell previously told reporters on Feb. 2 that he and Biden had spoken about Myanmar and the budget process and coronavirus relief. Democrats used a special process known as budget reconciliation to pass their sweeping $1.9 trillion bill over GOP objecti...   \n",
       "\n",
       "   label  \n",
       "0      1  \n",
       "1      1  \n",
       "2      1  \n",
       "3      1  \n",
       "4      1  "
      ]
     },
     "execution_count": 7,
     "metadata": {},
     "output_type": "execute_result"
    }
   ],
   "source": [
    "pd.set_option('display.max_colwidth', 1200)\n",
    "df.head()"
   ]
  },
  {
   "cell_type": "code",
   "execution_count": 8,
   "metadata": {},
   "outputs": [
    {
     "data": {
      "text/plain": [
       "(17362, 2)"
      ]
     },
     "execution_count": 8,
     "metadata": {},
     "output_type": "execute_result"
    }
   ],
   "source": [
    "df.shape"
   ]
  },
  {
   "cell_type": "markdown",
   "metadata": {},
   "source": [
    "Labelling dummies as Left Center and Right"
   ]
  },
  {
   "cell_type": "code",
   "execution_count": 10,
   "metadata": {},
   "outputs": [],
   "source": [
    "label_map = {0: \"Left\", 1: \"Center\", 2: \"Right\"}\n",
    "df['label_name'] = df['label'].map(label_map)"
   ]
  },
  {
   "cell_type": "code",
   "execution_count": 11,
   "metadata": {},
   "outputs": [
    {
     "data": {
      "text/html": [
       "<div>\n",
       "<style scoped>\n",
       "    .dataframe tbody tr th:only-of-type {\n",
       "        vertical-align: middle;\n",
       "    }\n",
       "\n",
       "    .dataframe tbody tr th {\n",
       "        vertical-align: top;\n",
       "    }\n",
       "\n",
       "    .dataframe thead th {\n",
       "        text-align: right;\n",
       "    }\n",
       "</style>\n",
       "<table border=\"1\" class=\"dataframe\">\n",
       "  <thead>\n",
       "    <tr style=\"text-align: right;\">\n",
       "      <th></th>\n",
       "      <th>text</th>\n",
       "      <th>label</th>\n",
       "      <th>label_name</th>\n",
       "    </tr>\n",
       "  </thead>\n",
       "  <tbody>\n",
       "    <tr>\n",
       "      <th>0</th>\n",
       "      <td>Rep. Elijah Cummings, D-Md., speaks during a luncheon at the National Press Club in Washington in August.                                      Patrick Semansky/AP                            hide caption              toggle caption              Patrick Semansky/AP                                           Rep. Elijah Cummings, D-Md., speaks during a luncheon at the National Press Club in Washington in August.                  Patrick Semansky/AP                  Updated at 11:10 a.m. ET  Rep. Elijah E. Cummings, a Baltimore attorney and civil rights advocate who served in Maryland's legislature before representing the state in the U.S. House, where he took on a lead role in investigating President Trump, has died. He was 68.  Cummings, the head of the powerful House Committee on Oversight and Reform, died early Thursday at Johns Hopkins Hospital from complications related to longstanding health challenges, according to The Associated Press.  \"He worked until his last breath because he believed our democracy was the highest and best expression of our collective humanity and that our nation's diversity was our promise, not our problem,\" said Cummings' wife, Maryland Democratic Par...</td>\n",
       "      <td>1</td>\n",
       "      <td>Center</td>\n",
       "    </tr>\n",
       "    <tr>\n",
       "      <th>1</th>\n",
       "      <td>President         Barack Obama    narrowly won re-election, overcoming public doubts about his performance on the economy—doubts that challenger         Mitt Romney    appeared well-positioned to exploit.For         Mr. Obama,    the victory sets up a test of whether he can forge a productive second term in a divided political system.                                         A review of how President Obama won re-election, including where the balance of power sits in Washington. Photo: Reuters.                                                                                                                                          The U.S. Presidential election was watched closely around the world, perhaps no more so than in Europe. WSJ London Bureau Chief Bruce Orwall joins the News Hub with European-focused foreign policy questions facing Barack Obama. Photo: Getty Images.                                                                                                                                          WSJ Economics Reporter Brian Blackstone joins the News Hub from Germany to discuss the impact of the Presidential election on European financial issues. Photo: Getty Images. ...</td>\n",
       "      <td>1</td>\n",
       "      <td>Center</td>\n",
       "    </tr>\n",
       "    <tr>\n",
       "      <th>2</th>\n",
       "      <td>Infrastructure negotiations between President Biden and a group of Republicans led by Sen. Shelley Moore Capito (R-W.Va.) have officially broken down, and Biden now plans to turn his attention toward striking a deal with a separate, bipartisan group of senators, administration officials said Tuesday night.What we're hearing: When Biden and Capito spoke by phone on Tuesday, the call only lasted a few minutes, and it was clear that the two sides remain too far apart to find a compromise. The two parties still hadn't agreed on how to define what constitutes infrastructure, let alone set a price tag or way to pay for it.What they're saying: Biden \"informed Sen. Capito today that the latest offer from her group did not, in his view, meet the essential needs of our country,\" White House press secretary Jen Psaki said.\"He offered his gratitude to her for her efforts and good faith conversations, but expressed his disappointment that, while he was willing to reduce his plan by more than $1 trillion, the Republican group had increased their proposed new investments by only $150 billion.\"“While I appreciate President Biden’s willingness to devote so much time and effort to these negotiat...</td>\n",
       "      <td>1</td>\n",
       "      <td>Center</td>\n",
       "    </tr>\n",
       "    <tr>\n",
       "      <th>3</th>\n",
       "      <td>The breakneck pace of hiring slumped in February, a sign that U.S. growth is cooling, though strong wage growth and earlier robust job gains suggest the economy’s near decadelong expansion will endure. U.S. nonfarm payrolls rose a seasonally adjusted 20,000 in February, the Labor Department said Friday, marking the slowest pace for job growth since September 2017—when hurricanes skewed hiring patterns—and falling well below economists’ expectations for 180,000 new jobs.                Some of February’s weak job growth might have been a response to strong hiring in previous months. Payrolls grew 311,000 in January and 227,000 in December. The three-month average for job gains clocked in at 186,000, near the average for much of the expansion.      The unemployment rate dropped to 3.8% in February from 4% the month before, returning to a level last seen in October. Wages grew at the fastest pace in nearly a decade.          For months, strong U.S. job growth has been a counterpoint to other economic disturbances, including a partial federal-government shutdown in late December and January, a sputtering U.S. housing sector and a global economic slowdown.     “The labor market has ...</td>\n",
       "      <td>1</td>\n",
       "      <td>Center</td>\n",
       "    </tr>\n",
       "    <tr>\n",
       "      <th>4</th>\n",
       "      <td>Senate Minority Leader Mitch McConnellAddison (Mitch) Mitchell McConnellRepublicans take cheap shots at Fed nominees Republicans do not have a right to remain silent White House uses GOP's own rhetoric to rebut Supreme Court criticisms MORE (R-Ky.) said on Wednesday that he's barely spoken to President BidenJoe BidenCory Booker and Rosario Dawson have reportedly split US ups estimate of Russian forces on Ukraine border to 130,000 Harris heads to Munich at pivotal moment MORE since the Jan. 20 inauguration, accusing the White House of shifting to the \"hard left.\"\"I don't believe I've spoken with him since he was sworn in,\" McConnell said during an interview with Fox News, adding that he hadn't been invited to the White House either.Spokespeople for McConnell didn't immediately respond to a request for comment, but clarified to CNN that while they had spoken since the Jan. 20 inauguration, they haven't talked about the agenda.McConnell previously told reporters on Feb. 2 that he and Biden had spoken about Myanmar and the budget process and coronavirus relief. Democrats used a special process known as budget reconciliation to pass their sweeping $1.9 trillion bill over GOP objecti...</td>\n",
       "      <td>1</td>\n",
       "      <td>Center</td>\n",
       "    </tr>\n",
       "  </tbody>\n",
       "</table>\n",
       "</div>"
      ],
      "text/plain": [
       "                                                                                                                                                                                                                                                                                                                                                                                                                                                                                                                                                                                                                                                                                                                                                                                                                                                                                                                                                                                                                                                                                                                                                                                                                                              text  \\\n",
       "0  Rep. Elijah Cummings, D-Md., speaks during a luncheon at the National Press Club in Washington in August.                                      Patrick Semansky/AP                            hide caption              toggle caption              Patrick Semansky/AP                                           Rep. Elijah Cummings, D-Md., speaks during a luncheon at the National Press Club in Washington in August.                  Patrick Semansky/AP                  Updated at 11:10 a.m. ET  Rep. Elijah E. Cummings, a Baltimore attorney and civil rights advocate who served in Maryland's legislature before representing the state in the U.S. House, where he took on a lead role in investigating President Trump, has died. He was 68.  Cummings, the head of the powerful House Committee on Oversight and Reform, died early Thursday at Johns Hopkins Hospital from complications related to longstanding health challenges, according to The Associated Press.  \"He worked until his last breath because he believed our democracy was the highest and best expression of our collective humanity and that our nation's diversity was our promise, not our problem,\" said Cummings' wife, Maryland Democratic Par...   \n",
       "1  President         Barack Obama    narrowly won re-election, overcoming public doubts about his performance on the economy—doubts that challenger         Mitt Romney    appeared well-positioned to exploit.For         Mr. Obama,    the victory sets up a test of whether he can forge a productive second term in a divided political system.                                         A review of how President Obama won re-election, including where the balance of power sits in Washington. Photo: Reuters.                                                                                                                                          The U.S. Presidential election was watched closely around the world, perhaps no more so than in Europe. WSJ London Bureau Chief Bruce Orwall joins the News Hub with European-focused foreign policy questions facing Barack Obama. Photo: Getty Images.                                                                                                                                          WSJ Economics Reporter Brian Blackstone joins the News Hub from Germany to discuss the impact of the Presidential election on European financial issues. Photo: Getty Images. ...   \n",
       "2  Infrastructure negotiations between President Biden and a group of Republicans led by Sen. Shelley Moore Capito (R-W.Va.) have officially broken down, and Biden now plans to turn his attention toward striking a deal with a separate, bipartisan group of senators, administration officials said Tuesday night.What we're hearing: When Biden and Capito spoke by phone on Tuesday, the call only lasted a few minutes, and it was clear that the two sides remain too far apart to find a compromise. The two parties still hadn't agreed on how to define what constitutes infrastructure, let alone set a price tag or way to pay for it.What they're saying: Biden \"informed Sen. Capito today that the latest offer from her group did not, in his view, meet the essential needs of our country,\" White House press secretary Jen Psaki said.\"He offered his gratitude to her for her efforts and good faith conversations, but expressed his disappointment that, while he was willing to reduce his plan by more than $1 trillion, the Republican group had increased their proposed new investments by only $150 billion.\"“While I appreciate President Biden’s willingness to devote so much time and effort to these negotiat...   \n",
       "3  The breakneck pace of hiring slumped in February, a sign that U.S. growth is cooling, though strong wage growth and earlier robust job gains suggest the economy’s near decadelong expansion will endure. U.S. nonfarm payrolls rose a seasonally adjusted 20,000 in February, the Labor Department said Friday, marking the slowest pace for job growth since September 2017—when hurricanes skewed hiring patterns—and falling well below economists’ expectations for 180,000 new jobs.                Some of February’s weak job growth might have been a response to strong hiring in previous months. Payrolls grew 311,000 in January and 227,000 in December. The three-month average for job gains clocked in at 186,000, near the average for much of the expansion.      The unemployment rate dropped to 3.8% in February from 4% the month before, returning to a level last seen in October. Wages grew at the fastest pace in nearly a decade.          For months, strong U.S. job growth has been a counterpoint to other economic disturbances, including a partial federal-government shutdown in late December and January, a sputtering U.S. housing sector and a global economic slowdown.     “The labor market has ...   \n",
       "4  Senate Minority Leader Mitch McConnellAddison (Mitch) Mitchell McConnellRepublicans take cheap shots at Fed nominees Republicans do not have a right to remain silent White House uses GOP's own rhetoric to rebut Supreme Court criticisms MORE (R-Ky.) said on Wednesday that he's barely spoken to President BidenJoe BidenCory Booker and Rosario Dawson have reportedly split US ups estimate of Russian forces on Ukraine border to 130,000 Harris heads to Munich at pivotal moment MORE since the Jan. 20 inauguration, accusing the White House of shifting to the \"hard left.\"\"I don't believe I've spoken with him since he was sworn in,\" McConnell said during an interview with Fox News, adding that he hadn't been invited to the White House either.Spokespeople for McConnell didn't immediately respond to a request for comment, but clarified to CNN that while they had spoken since the Jan. 20 inauguration, they haven't talked about the agenda.McConnell previously told reporters on Feb. 2 that he and Biden had spoken about Myanmar and the budget process and coronavirus relief. Democrats used a special process known as budget reconciliation to pass their sweeping $1.9 trillion bill over GOP objecti...   \n",
       "\n",
       "   label label_name  \n",
       "0      1     Center  \n",
       "1      1     Center  \n",
       "2      1     Center  \n",
       "3      1     Center  \n",
       "4      1     Center  "
      ]
     },
     "execution_count": 11,
     "metadata": {},
     "output_type": "execute_result"
    }
   ],
   "source": [
    "df.head()"
   ]
  },
  {
   "cell_type": "code",
   "execution_count": 12,
   "metadata": {},
   "outputs": [
    {
     "data": {
      "text/plain": [
       "label_name\n",
       "Left      7803\n",
       "Right     5563\n",
       "Center    3996\n",
       "Name: count, dtype: int64"
      ]
     },
     "execution_count": 12,
     "metadata": {},
     "output_type": "execute_result"
    }
   ],
   "source": [
    "df.label_name.value_counts()"
   ]
  },
  {
   "cell_type": "markdown",
   "metadata": {},
   "source": [
    "Cleaning the article text to remove unnecessary words and characters"
   ]
  },
  {
   "cell_type": "code",
   "execution_count": 106,
   "metadata": {},
   "outputs": [],
   "source": [
    "import re\n",
    "\n",
    "def clean_text(text):\n",
    "    # Convert to lowercase first\n",
    "    text = text.lower()\n",
    "     # Remove \"hide caption toggle caption\" even if there are extra spaces or line breaks between words\n",
    "    text = re.sub(r'hide\\s+caption\\s+toggle\\s+caption', '', text)\n",
    "\n",
    "    # Remove \"updated at hh:mm a.m./p.m.\" (handles various times)\n",
    "    text = re.sub(r'updated at \\d{1,2}:\\d{2} (a\\.m\\.|p\\.m\\.)', '', text)\n",
    "    # Remove date patterns like \"february 15, 2022\" or \"feb 15, 2022\"\n",
    "    text = re.sub(r'(january|february|march|april|may|june|july|august|september|october|november|december|jan|feb|mar|apr|jun|jul|aug|sep|oct|nov|dec)\\s+\\d{1,2},\\s+\\d{4}', '', text)\n",
    "    # Remove time patterns like \"10:48 pm\" or \"05:41 pm\"\n",
    "    text = re.sub(r'\\d{1,2}:\\d{2}\\s+(am|pm|a\\.m\\.|p\\.m\\.)', '', text)\n",
    "    # Remove patterns like \"photo: reuters.\"\n",
    "    text = re.sub(r'photo:\\s*\\w+\\.', '', text)\n",
    "    # Remove patterns like \"name/agency\" (e.g., \"patrick semansky/ap\")\n",
    "    text = re.sub(r'\\b\\w+\\s\\w+/\\w+\\b', '', text)\n",
    "    text = re.sub(r'\\b\\w+/[a-z]+\\b', '', text)\n",
    "    # Remove extra spaces\n",
    "    text = re.sub(r'\\s+', ' ', text)\n",
    "    # Strip leading/trailing spaces\n",
    "    text = text.strip()\n",
    "    return text"
   ]
  },
  {
   "cell_type": "code",
   "execution_count": 107,
   "metadata": {},
   "outputs": [],
   "source": [
    "df['clean_text'] = df['text'].apply(clean_text)"
   ]
  },
  {
   "cell_type": "code",
   "execution_count": 108,
   "metadata": {},
   "outputs": [
    {
     "data": {
      "text/html": [
       "<div>\n",
       "<style scoped>\n",
       "    .dataframe tbody tr th:only-of-type {\n",
       "        vertical-align: middle;\n",
       "    }\n",
       "\n",
       "    .dataframe tbody tr th {\n",
       "        vertical-align: top;\n",
       "    }\n",
       "\n",
       "    .dataframe thead th {\n",
       "        text-align: right;\n",
       "    }\n",
       "</style>\n",
       "<table border=\"1\" class=\"dataframe\">\n",
       "  <thead>\n",
       "    <tr style=\"text-align: right;\">\n",
       "      <th></th>\n",
       "      <th>text</th>\n",
       "      <th>label</th>\n",
       "      <th>label_name</th>\n",
       "      <th>clean_text</th>\n",
       "    </tr>\n",
       "  </thead>\n",
       "  <tbody>\n",
       "    <tr>\n",
       "      <th>0</th>\n",
       "      <td>Rep. Elijah Cummings, D-Md., speaks during a luncheon at the National Press Club in Washington in August.                                      Patrick Semansky/AP                            hide caption              toggle caption              Patrick Semansky/AP                                           Rep. Elijah Cummings, D-Md., speaks during a luncheon at the National Press Club in Washington in August.                  Patrick Semansky/AP                  Updated at 11:10 a.m. ET  Rep. Elijah E. Cummings, a Baltimore attorney and civil rights advocate who served in Maryland's legislature before representing the state in the U.S. House, where he took on a lead role in investigating President Trump, has died. He was 68.  Cummings, the head of the powerful House Committee on Oversight and Reform, died early Thursday at Johns Hopkins Hospital from complications related to longstanding health challenges, according to The Associated Press.  \"He worked until his last breath because he believed our democracy was the highest and best expression of our collective humanity and that our nation's diversity was our promise, not our problem,\" said Cummings' wife, Maryland Democratic Par...</td>\n",
       "      <td>1</td>\n",
       "      <td>Center</td>\n",
       "      <td>rep. elijah cummings, d-md., speaks during a luncheon at the national press club in washington in august. rep. elijah cummings, d-md., speaks during a luncheon at the national press club in washington in august. et rep. elijah e. cummings, a baltimore attorney and civil rights advocate who served in maryland's legislature before representing the state in the u.s. house, where he took on a lead role in investigating president trump, has died. he was 68. cummings, the head of the powerful house committee on oversight and reform, died early thursday at johns hopkins hospital from complications related to longstanding health challenges, according to the associated press. \"he worked until his last breath because he believed our democracy was the highest and best expression of our collective humanity and that our nation's diversity was our promise, not our problem,\" said cummings' wife, maryland democratic party chair maya rockeymoore cummings. it's been an honor to walk by his side on this incredible journey. i loved him deeply and will miss him dearly.\" house speaker nancy pelosi called cummings \"my brother in baltimore\" as she spoke about him on thursday. \"in the congress, elijah ...</td>\n",
       "    </tr>\n",
       "    <tr>\n",
       "      <th>1</th>\n",
       "      <td>President         Barack Obama    narrowly won re-election, overcoming public doubts about his performance on the economy—doubts that challenger         Mitt Romney    appeared well-positioned to exploit.For         Mr. Obama,    the victory sets up a test of whether he can forge a productive second term in a divided political system.                                         A review of how President Obama won re-election, including where the balance of power sits in Washington. Photo: Reuters.                                                                                                                                          The U.S. Presidential election was watched closely around the world, perhaps no more so than in Europe. WSJ London Bureau Chief Bruce Orwall joins the News Hub with European-focused foreign policy questions facing Barack Obama. Photo: Getty Images.                                                                                                                                          WSJ Economics Reporter Brian Blackstone joins the News Hub from Germany to discuss the impact of the Presidential election on European financial issues. Photo: Getty Images. ...</td>\n",
       "      <td>1</td>\n",
       "      <td>Center</td>\n",
       "      <td>president barack obama narrowly won re-election, overcoming public doubts about his performance on the economy—doubts that challenger mitt romney appeared well-positioned to exploit.for mr. obama, the victory sets up a test of whether he can forge a productive second term in a divided political system. a review of how president obama won re-election, including where the balance of power sits in washington. the u.s. presidential election was watched closely around the world, perhaps no more so than in europe. wsj london bureau chief bruce orwall joins the news hub with european-focused foreign policy questions facing barack obama. photo: getty images. wsj economics reporter brian blackstone joins the news hub from germany to discuss the impact of the presidential election on european financial issues. photo: getty images. wsj beijing bureau chief andrew browne joins the news hub to discuss asian reaction to the u.s. presidential election. photo: getty images. election watchers and obama supporters in times square, boston, washington, d.c., and iowa react to news that the president has won a second term. via #worldstream. see more video on #worldstream for republicans, it raises ...</td>\n",
       "    </tr>\n",
       "    <tr>\n",
       "      <th>2</th>\n",
       "      <td>Infrastructure negotiations between President Biden and a group of Republicans led by Sen. Shelley Moore Capito (R-W.Va.) have officially broken down, and Biden now plans to turn his attention toward striking a deal with a separate, bipartisan group of senators, administration officials said Tuesday night.What we're hearing: When Biden and Capito spoke by phone on Tuesday, the call only lasted a few minutes, and it was clear that the two sides remain too far apart to find a compromise. The two parties still hadn't agreed on how to define what constitutes infrastructure, let alone set a price tag or way to pay for it.What they're saying: Biden \"informed Sen. Capito today that the latest offer from her group did not, in his view, meet the essential needs of our country,\" White House press secretary Jen Psaki said.\"He offered his gratitude to her for her efforts and good faith conversations, but expressed his disappointment that, while he was willing to reduce his plan by more than $1 trillion, the Republican group had increased their proposed new investments by only $150 billion.\"“While I appreciate President Biden’s willingness to devote so much time and effort to these negotiat...</td>\n",
       "      <td>1</td>\n",
       "      <td>Center</td>\n",
       "      <td>infrastructure negotiations between president biden and a group of republicans led by sen. shelley moore capito (r-w.va.) have officially broken down, and biden now plans to turn his attention toward striking a deal with a separate, bipartisan group of senators, administration officials said tuesday night.what we're hearing: when biden and capito spoke by phone on tuesday, the call only lasted a few minutes, and it was clear that the two sides remain too far apart to find a compromise. the two parties still hadn't agreed on how to define what constitutes infrastructure, let alone set a price tag or way to pay for it.what they're saying: biden \"informed sen. capito today that the latest offer from her group did not, in his view, meet the essential needs of our country,\" white house press secretary jen psaki said.\"he offered his gratitude to her for her efforts and good faith conversations, but expressed his disappointment that, while he was willing to reduce his plan by more than $1 trillion, the republican group had increased their proposed new investments by only $150 billion.\"“while i appreciate president biden’s willingness to devote so much time and effort to these negotiat...</td>\n",
       "    </tr>\n",
       "    <tr>\n",
       "      <th>3</th>\n",
       "      <td>The breakneck pace of hiring slumped in February, a sign that U.S. growth is cooling, though strong wage growth and earlier robust job gains suggest the economy’s near decadelong expansion will endure. U.S. nonfarm payrolls rose a seasonally adjusted 20,000 in February, the Labor Department said Friday, marking the slowest pace for job growth since September 2017—when hurricanes skewed hiring patterns—and falling well below economists’ expectations for 180,000 new jobs.                Some of February’s weak job growth might have been a response to strong hiring in previous months. Payrolls grew 311,000 in January and 227,000 in December. The three-month average for job gains clocked in at 186,000, near the average for much of the expansion.      The unemployment rate dropped to 3.8% in February from 4% the month before, returning to a level last seen in October. Wages grew at the fastest pace in nearly a decade.          For months, strong U.S. job growth has been a counterpoint to other economic disturbances, including a partial federal-government shutdown in late December and January, a sputtering U.S. housing sector and a global economic slowdown.     “The labor market has ...</td>\n",
       "      <td>1</td>\n",
       "      <td>Center</td>\n",
       "      <td>the breakneck pace of hiring slumped in february, a sign that u.s. growth is cooling, though strong wage growth and earlier robust job gains suggest the economy’s near decadelong expansion will endure. u.s. nonfarm payrolls rose a seasonally adjusted 20,000 in february, the labor department said friday, marking the slowest pace for job growth since september 2017—when hurricanes skewed hiring patterns—and falling well below economists’ expectations for 180,000 new jobs. some of february’s weak job growth might have been a response to strong hiring in previous months. payrolls grew 311,000 in january and 227,000 in december. the three-month average for job gains clocked in at 186,000, near the average for much of the expansion. the unemployment rate dropped to 3.8% in february from 4% the month before, returning to a level last seen in october. wages grew at the fastest pace in nearly a decade. for months, strong u.s. job growth has been a counterpoint to other economic disturbances, including a partial federal-government shutdown in late december and january, a sputtering u.s. housing sector and a global economic slowdown. “the labor market has really stood out as the lone brig...</td>\n",
       "    </tr>\n",
       "    <tr>\n",
       "      <th>4</th>\n",
       "      <td>Senate Minority Leader Mitch McConnellAddison (Mitch) Mitchell McConnellRepublicans take cheap shots at Fed nominees Republicans do not have a right to remain silent White House uses GOP's own rhetoric to rebut Supreme Court criticisms MORE (R-Ky.) said on Wednesday that he's barely spoken to President BidenJoe BidenCory Booker and Rosario Dawson have reportedly split US ups estimate of Russian forces on Ukraine border to 130,000 Harris heads to Munich at pivotal moment MORE since the Jan. 20 inauguration, accusing the White House of shifting to the \"hard left.\"\"I don't believe I've spoken with him since he was sworn in,\" McConnell said during an interview with Fox News, adding that he hadn't been invited to the White House either.Spokespeople for McConnell didn't immediately respond to a request for comment, but clarified to CNN that while they had spoken since the Jan. 20 inauguration, they haven't talked about the agenda.McConnell previously told reporters on Feb. 2 that he and Biden had spoken about Myanmar and the budget process and coronavirus relief. Democrats used a special process known as budget reconciliation to pass their sweeping $1.9 trillion bill over GOP objecti...</td>\n",
       "      <td>1</td>\n",
       "      <td>Center</td>\n",
       "      <td>senate minority leader mitch mcconnelladdison (mitch) mitchell mcconnellrepublicans take cheap shots at fed nominees republicans do not have a right to remain silent white house uses gop's own rhetoric to rebut supreme court criticisms more (r-ky.) said on wednesday that he's barely spoken to president bidenjoe bidencory booker and rosario dawson have reportedly split us ups estimate of russian forces on ukraine border to 130,000 harris heads to munich at pivotal moment more since the jan. 20 inauguration, accusing the white house of shifting to the \"hard left.\"\"i don't believe i've spoken with him since he was sworn in,\" mcconnell said during an interview with fox news, adding that he hadn't been invited to the white house either.spokespeople for mcconnell didn't immediately respond to a request for comment, but clarified to cnn that while they had spoken since the jan. 20 inauguration, they haven't talked about the agenda.mcconnell previously told reporters on feb. 2 that he and biden had spoken about myanmar and the budget process and coronavirus relief. democrats used a special process known as budget reconciliation to pass their sweeping $1.9 trillion bill over gop objecti...</td>\n",
       "    </tr>\n",
       "  </tbody>\n",
       "</table>\n",
       "</div>"
      ],
      "text/plain": [
       "                                                                                                                                                                                                                                                                                                                                                                                                                                                                                                                                                                                                                                                                                                                                                                                                                                                                                                                                                                                                                                                                                                                                                                                                                                              text  \\\n",
       "0  Rep. Elijah Cummings, D-Md., speaks during a luncheon at the National Press Club in Washington in August.                                      Patrick Semansky/AP                            hide caption              toggle caption              Patrick Semansky/AP                                           Rep. Elijah Cummings, D-Md., speaks during a luncheon at the National Press Club in Washington in August.                  Patrick Semansky/AP                  Updated at 11:10 a.m. ET  Rep. Elijah E. Cummings, a Baltimore attorney and civil rights advocate who served in Maryland's legislature before representing the state in the U.S. House, where he took on a lead role in investigating President Trump, has died. He was 68.  Cummings, the head of the powerful House Committee on Oversight and Reform, died early Thursday at Johns Hopkins Hospital from complications related to longstanding health challenges, according to The Associated Press.  \"He worked until his last breath because he believed our democracy was the highest and best expression of our collective humanity and that our nation's diversity was our promise, not our problem,\" said Cummings' wife, Maryland Democratic Par...   \n",
       "1  President         Barack Obama    narrowly won re-election, overcoming public doubts about his performance on the economy—doubts that challenger         Mitt Romney    appeared well-positioned to exploit.For         Mr. Obama,    the victory sets up a test of whether he can forge a productive second term in a divided political system.                                         A review of how President Obama won re-election, including where the balance of power sits in Washington. Photo: Reuters.                                                                                                                                          The U.S. Presidential election was watched closely around the world, perhaps no more so than in Europe. WSJ London Bureau Chief Bruce Orwall joins the News Hub with European-focused foreign policy questions facing Barack Obama. Photo: Getty Images.                                                                                                                                          WSJ Economics Reporter Brian Blackstone joins the News Hub from Germany to discuss the impact of the Presidential election on European financial issues. Photo: Getty Images. ...   \n",
       "2  Infrastructure negotiations between President Biden and a group of Republicans led by Sen. Shelley Moore Capito (R-W.Va.) have officially broken down, and Biden now plans to turn his attention toward striking a deal with a separate, bipartisan group of senators, administration officials said Tuesday night.What we're hearing: When Biden and Capito spoke by phone on Tuesday, the call only lasted a few minutes, and it was clear that the two sides remain too far apart to find a compromise. The two parties still hadn't agreed on how to define what constitutes infrastructure, let alone set a price tag or way to pay for it.What they're saying: Biden \"informed Sen. Capito today that the latest offer from her group did not, in his view, meet the essential needs of our country,\" White House press secretary Jen Psaki said.\"He offered his gratitude to her for her efforts and good faith conversations, but expressed his disappointment that, while he was willing to reduce his plan by more than $1 trillion, the Republican group had increased their proposed new investments by only $150 billion.\"“While I appreciate President Biden’s willingness to devote so much time and effort to these negotiat...   \n",
       "3  The breakneck pace of hiring slumped in February, a sign that U.S. growth is cooling, though strong wage growth and earlier robust job gains suggest the economy’s near decadelong expansion will endure. U.S. nonfarm payrolls rose a seasonally adjusted 20,000 in February, the Labor Department said Friday, marking the slowest pace for job growth since September 2017—when hurricanes skewed hiring patterns—and falling well below economists’ expectations for 180,000 new jobs.                Some of February’s weak job growth might have been a response to strong hiring in previous months. Payrolls grew 311,000 in January and 227,000 in December. The three-month average for job gains clocked in at 186,000, near the average for much of the expansion.      The unemployment rate dropped to 3.8% in February from 4% the month before, returning to a level last seen in October. Wages grew at the fastest pace in nearly a decade.          For months, strong U.S. job growth has been a counterpoint to other economic disturbances, including a partial federal-government shutdown in late December and January, a sputtering U.S. housing sector and a global economic slowdown.     “The labor market has ...   \n",
       "4  Senate Minority Leader Mitch McConnellAddison (Mitch) Mitchell McConnellRepublicans take cheap shots at Fed nominees Republicans do not have a right to remain silent White House uses GOP's own rhetoric to rebut Supreme Court criticisms MORE (R-Ky.) said on Wednesday that he's barely spoken to President BidenJoe BidenCory Booker and Rosario Dawson have reportedly split US ups estimate of Russian forces on Ukraine border to 130,000 Harris heads to Munich at pivotal moment MORE since the Jan. 20 inauguration, accusing the White House of shifting to the \"hard left.\"\"I don't believe I've spoken with him since he was sworn in,\" McConnell said during an interview with Fox News, adding that he hadn't been invited to the White House either.Spokespeople for McConnell didn't immediately respond to a request for comment, but clarified to CNN that while they had spoken since the Jan. 20 inauguration, they haven't talked about the agenda.McConnell previously told reporters on Feb. 2 that he and Biden had spoken about Myanmar and the budget process and coronavirus relief. Democrats used a special process known as budget reconciliation to pass their sweeping $1.9 trillion bill over GOP objecti...   \n",
       "\n",
       "   label label_name  \\\n",
       "0      1     Center   \n",
       "1      1     Center   \n",
       "2      1     Center   \n",
       "3      1     Center   \n",
       "4      1     Center   \n",
       "\n",
       "                                                                                                                                                                                                                                                                                                                                                                                                                                                                                                                                                                                                                                                                                                                                                                                                                                                                                                                                                                                                                                                                                                                                                                                                                                        clean_text  \n",
       "0  rep. elijah cummings, d-md., speaks during a luncheon at the national press club in washington in august. rep. elijah cummings, d-md., speaks during a luncheon at the national press club in washington in august. et rep. elijah e. cummings, a baltimore attorney and civil rights advocate who served in maryland's legislature before representing the state in the u.s. house, where he took on a lead role in investigating president trump, has died. he was 68. cummings, the head of the powerful house committee on oversight and reform, died early thursday at johns hopkins hospital from complications related to longstanding health challenges, according to the associated press. \"he worked until his last breath because he believed our democracy was the highest and best expression of our collective humanity and that our nation's diversity was our promise, not our problem,\" said cummings' wife, maryland democratic party chair maya rockeymoore cummings. it's been an honor to walk by his side on this incredible journey. i loved him deeply and will miss him dearly.\" house speaker nancy pelosi called cummings \"my brother in baltimore\" as she spoke about him on thursday. \"in the congress, elijah ...  \n",
       "1  president barack obama narrowly won re-election, overcoming public doubts about his performance on the economy—doubts that challenger mitt romney appeared well-positioned to exploit.for mr. obama, the victory sets up a test of whether he can forge a productive second term in a divided political system. a review of how president obama won re-election, including where the balance of power sits in washington. the u.s. presidential election was watched closely around the world, perhaps no more so than in europe. wsj london bureau chief bruce orwall joins the news hub with european-focused foreign policy questions facing barack obama. photo: getty images. wsj economics reporter brian blackstone joins the news hub from germany to discuss the impact of the presidential election on european financial issues. photo: getty images. wsj beijing bureau chief andrew browne joins the news hub to discuss asian reaction to the u.s. presidential election. photo: getty images. election watchers and obama supporters in times square, boston, washington, d.c., and iowa react to news that the president has won a second term. via #worldstream. see more video on #worldstream for republicans, it raises ...  \n",
       "2  infrastructure negotiations between president biden and a group of republicans led by sen. shelley moore capito (r-w.va.) have officially broken down, and biden now plans to turn his attention toward striking a deal with a separate, bipartisan group of senators, administration officials said tuesday night.what we're hearing: when biden and capito spoke by phone on tuesday, the call only lasted a few minutes, and it was clear that the two sides remain too far apart to find a compromise. the two parties still hadn't agreed on how to define what constitutes infrastructure, let alone set a price tag or way to pay for it.what they're saying: biden \"informed sen. capito today that the latest offer from her group did not, in his view, meet the essential needs of our country,\" white house press secretary jen psaki said.\"he offered his gratitude to her for her efforts and good faith conversations, but expressed his disappointment that, while he was willing to reduce his plan by more than $1 trillion, the republican group had increased their proposed new investments by only $150 billion.\"“while i appreciate president biden’s willingness to devote so much time and effort to these negotiat...  \n",
       "3  the breakneck pace of hiring slumped in february, a sign that u.s. growth is cooling, though strong wage growth and earlier robust job gains suggest the economy’s near decadelong expansion will endure. u.s. nonfarm payrolls rose a seasonally adjusted 20,000 in february, the labor department said friday, marking the slowest pace for job growth since september 2017—when hurricanes skewed hiring patterns—and falling well below economists’ expectations for 180,000 new jobs. some of february’s weak job growth might have been a response to strong hiring in previous months. payrolls grew 311,000 in january and 227,000 in december. the three-month average for job gains clocked in at 186,000, near the average for much of the expansion. the unemployment rate dropped to 3.8% in february from 4% the month before, returning to a level last seen in october. wages grew at the fastest pace in nearly a decade. for months, strong u.s. job growth has been a counterpoint to other economic disturbances, including a partial federal-government shutdown in late december and january, a sputtering u.s. housing sector and a global economic slowdown. “the labor market has really stood out as the lone brig...  \n",
       "4  senate minority leader mitch mcconnelladdison (mitch) mitchell mcconnellrepublicans take cheap shots at fed nominees republicans do not have a right to remain silent white house uses gop's own rhetoric to rebut supreme court criticisms more (r-ky.) said on wednesday that he's barely spoken to president bidenjoe bidencory booker and rosario dawson have reportedly split us ups estimate of russian forces on ukraine border to 130,000 harris heads to munich at pivotal moment more since the jan. 20 inauguration, accusing the white house of shifting to the \"hard left.\"\"i don't believe i've spoken with him since he was sworn in,\" mcconnell said during an interview with fox news, adding that he hadn't been invited to the white house either.spokespeople for mcconnell didn't immediately respond to a request for comment, but clarified to cnn that while they had spoken since the jan. 20 inauguration, they haven't talked about the agenda.mcconnell previously told reporters on feb. 2 that he and biden had spoken about myanmar and the budget process and coronavirus relief. democrats used a special process known as budget reconciliation to pass their sweeping $1.9 trillion bill over gop objecti...  "
      ]
     },
     "execution_count": 108,
     "metadata": {},
     "output_type": "execute_result"
    }
   ],
   "source": [
    "df.head()"
   ]
  },
  {
   "cell_type": "markdown",
   "metadata": {},
   "source": [
    "# Emotion Scoring Based on Intensity in Article Text\n",
    "\n",
    "To analyze the emotional tone of political articles, I scored six primary emotions — **sadness**, **joy**, **love**, **anger**, **fear**, and **surprise** — based on their intensity in the article text.\n",
    "\n",
    "- **Model Used**:  \n",
    "  I utilized the [`distilbert-base-uncased-emotion`](https://huggingface.co/bhadresh-savani/distilbert-base-uncased-emotion) model for initial scoring. This model predicts the intensity of six core emotions.\n",
    "\n",
    "- **Sample Size**:  \n",
    "  A 40% random sample of the dataset was used for inference to balance performance and computational cost.\n",
    "\n",
    "- **Alternative Model Tried**:  \n",
    "  I also experimented with [`roberta-base-go_emotions`](https://huggingface.co/monologg/roberta-base-go_emotions), which outputs 28 distinct emotion classes, including nuanced emotional states beyond the basic six.\n",
    "\n",
    "- **Post-Processing**:  \n",
    "  After obtaining prediction scores, I grouped the data by **political leaning** and calculated the **mean score for each emotion label**. This enabled a comparative analysis of emotional expression across political orientations.\n"
   ]
  },
  {
   "cell_type": "code",
   "execution_count": 64,
   "metadata": {},
   "outputs": [],
   "source": [
    "from transformers import AutoTokenizer\n",
    "\n",
    "# 1. Get the tokenizer for the model\n",
    "tokenizer = AutoTokenizer.from_pretrained(\"bhadresh-savani/distilbert-base-uncased-emotion\")\n",
    "\n",
    "# 2. Function to truncate text to max 450 tokens (safe margin below 512)\n",
    "def truncate_text(text):\n",
    "    # Truncate to 450 tokens to be safely under the limit\n",
    "    return tokenizer.decode(\n",
    "        tokenizer.encode(text, truncation=True, max_length=500),\n",
    "        skip_special_tokens=True\n",
    "    )"
   ]
  },
  {
   "cell_type": "code",
   "execution_count": 110,
   "metadata": {},
   "outputs": [],
   "source": [
    "from sklearn.model_selection import train_test_split\n",
    "\n",
    "sample_df, _ = train_test_split(df, train_size=0.4, stratify=df[\"label_name\"], random_state=42)\n"
   ]
  },
  {
   "cell_type": "code",
   "execution_count": 111,
   "metadata": {},
   "outputs": [
    {
     "data": {
      "text/plain": [
       "label_name\n",
       "Left      3121\n",
       "Right     2225\n",
       "Center    1598\n",
       "Name: count, dtype: int64"
      ]
     },
     "execution_count": 111,
     "metadata": {},
     "output_type": "execute_result"
    }
   ],
   "source": [
    "sample_df.label_name.value_counts()"
   ]
  },
  {
   "cell_type": "code",
   "execution_count": 112,
   "metadata": {},
   "outputs": [
    {
     "name": "stderr",
     "output_type": "stream",
     "text": [
      "c:\\Users\\mudas\\anaconda3\\envs\\tf_env\\lib\\site-packages\\transformers\\pipelines\\text_classification.py:106: UserWarning: `return_all_scores` is now deprecated,  if want a similar functionality use `top_k=None` instead of `return_all_scores=True` or `top_k=1` instead of `return_all_scores=False`.\n",
      "  warnings.warn(\n"
     ]
    }
   ],
   "source": [
    "classifier = pipeline(\n",
    "    \"text-classification\",\n",
    "    model=\"bhadresh-savani/distilbert-base-uncased-emotion\",\n",
    "    return_all_scores=True\n",
    ")\n"
   ]
  },
  {
   "cell_type": "code",
   "execution_count": 113,
   "metadata": {},
   "outputs": [],
   "source": [
    "results = sample_df['clean_text'].apply(truncate_text).apply(lambda x: classifier(x)[0])\n"
   ]
  },
  {
   "cell_type": "code",
   "execution_count": 114,
   "metadata": {},
   "outputs": [],
   "source": [
    "# Extract scores into a new DataFrame\n",
    "scores_df = pd.DataFrame(\n",
    "    results.apply(lambda x: {d['label']: d['score'] for d in x}).tolist()\n",
    ")\n",
    "\n",
    "# Combine with original DataFrame\n",
    "final_df = pd.concat([sample_df, scores_df], axis=1)\n"
   ]
  },
  {
   "cell_type": "code",
   "execution_count": 115,
   "metadata": {},
   "outputs": [],
   "source": [
    "# Reset index to align both DataFrames\n",
    "sample_df_reset = sample_df.reset_index(drop=True)\n",
    "scores_df_reset = scores_df.reset_index(drop=True)\n",
    "\n",
    "# Concatenate the two DataFrames\n",
    "final_df = pd.concat([sample_df_reset, scores_df_reset], axis=1)\n"
   ]
  },
  {
   "cell_type": "code",
   "execution_count": 116,
   "metadata": {},
   "outputs": [
    {
     "data": {
      "text/html": [
       "<div>\n",
       "<style scoped>\n",
       "    .dataframe tbody tr th:only-of-type {\n",
       "        vertical-align: middle;\n",
       "    }\n",
       "\n",
       "    .dataframe tbody tr th {\n",
       "        vertical-align: top;\n",
       "    }\n",
       "\n",
       "    .dataframe thead th {\n",
       "        text-align: right;\n",
       "    }\n",
       "</style>\n",
       "<table border=\"1\" class=\"dataframe\">\n",
       "  <thead>\n",
       "    <tr style=\"text-align: right;\">\n",
       "      <th></th>\n",
       "      <th>text</th>\n",
       "      <th>label</th>\n",
       "      <th>label_name</th>\n",
       "      <th>clean_text</th>\n",
       "      <th>sadness</th>\n",
       "      <th>joy</th>\n",
       "      <th>love</th>\n",
       "      <th>anger</th>\n",
       "      <th>fear</th>\n",
       "      <th>surprise</th>\n",
       "    </tr>\n",
       "  </thead>\n",
       "  <tbody>\n",
       "    <tr>\n",
       "      <th>0</th>\n",
       "      <td>The Centers for Disease Control and Prevention (CDC) released a report Friday detailing a recent COVID-19 outbreak in Provincetown, Massachusetts, which was cited by the agency as a contributing factor to its recent change in mask guidance.Over the July 4 weekend, gatherings in Provincetown contributed to at least 900 cases, and roughly 75% of those who tested positive in the cluster were vaccinated. The Provincetown report concludes that spread among highly-vaccinated populations does occur and suggests that authorities reimplement mask mandates and other mitigation measures, even for the vaccinated. The Provincetown report was a major warning sign for CDC officials, who earlier this week reversed course and once again recommended that vaccinated Americans wear face coverings in some indoor settings. A leaked internal document from the CDC included preliminary data from the Provincetown outbreak in its summary of information on breakthrough cases of the delta variant. The vaccines are working. Of the 900 cases related to the Provincetown cluster, there have been no deaths, 7 hospitalizations, and the symptoms are largely mild. Our positivity peaked at 15% on 7/15 and was only ...</td>\n",
       "      <td>2</td>\n",
       "      <td>Right</td>\n",
       "      <td>the centers for disease control and prevention (cdc) released a report friday detailing a recent covid-19 outbreak in provincetown, massachusetts, which was cited by the agency as a contributing factor to its recent change in mask guidance.over the july 4 weekend, gatherings in provincetown contributed to at least 900 cases, and roughly 75% of those who tested positive in the cluster were vaccinated. the provincetown report concludes that spread among highly-vaccinated populations does occur and suggests that authorities reimplement mask mandates and other mitigation measures, even for the vaccinated. the provincetown report was a major warning sign for cdc officials, who earlier this week reversed course and once again recommended that vaccinated americans wear face coverings in some indoor settings. a leaked internal document from the cdc included preliminary data from the provincetown outbreak in its summary of information on breakthrough cases of the delta variant. the vaccines are working. of the 900 cases related to the provincetown cluster, there have been no deaths, 7 hospitalizations, and the symptoms are largely mild. our positivity peaked at 15% and was only 4.8% yes...</td>\n",
       "      <td>0.014373</td>\n",
       "      <td>0.141423</td>\n",
       "      <td>0.002109</td>\n",
       "      <td>0.026873</td>\n",
       "      <td>0.812825</td>\n",
       "      <td>0.002396</td>\n",
       "    </tr>\n",
       "    <tr>\n",
       "      <th>1</th>\n",
       "      <td>The attorney for the former Port Authority official at the center of the George Washington Bridge scandal said there is evidence showing that New Jersey Gov. Chris Christie was aware of the lane closures when they happened.                                                                                                                                                      Alan L. Zegas, who is representing David Wildstein, the official who ordered the lane closures and resigned as a result last year, said in a letter to the legal counsel for the Port Authority that there is evidence “tying Mr. Christie to having knowledge of the lane closures, during the period when the lanes were closed, contrary to what the Governor stated publicly.”                                                                                                                                                      “Mr. Wildstein contests the accuracy of various statements that the Governor made about him and he can prove the inaccuracy of some,” said the attorney, Alan L. Zegas.                                                                                                                                        ...</td>\n",
       "      <td>2</td>\n",
       "      <td>Right</td>\n",
       "      <td>the attorney for the former port authority official at the center of the george washington bridge scandal said there is evidence showing that new jersey gov. chris christie was aware of the lane closures when they happened. alan l. zegas, who is representing david wildstein, the official who ordered the lane closures and resigned as a result last year, said in a letter to the legal counsel for the port authority that there is evidence “tying mr. christie to having knowledge of the lane closures, during the period when the lanes were closed, contrary to what the governor stated publicly.” “mr. wildstein contests the accuracy of various statements that the governor made about him and he can prove the inaccuracy of some,” said the attorney, alan l. zegas. the new allegations surfaced as part of an ongoing spat over whether the port authority should cover the legal expenses of mr. wildstein, and raise new questions about what mr. christie knew about the mid-september lane closures on the george washington bridge. emails seemed to indicate the traffic jams were orchestrated by members of mr. christie’s inner circle and his allies at the port authority, including mr. wildstein, and w...</td>\n",
       "      <td>0.003125</td>\n",
       "      <td>0.002788</td>\n",
       "      <td>0.000504</td>\n",
       "      <td>0.974593</td>\n",
       "      <td>0.018608</td>\n",
       "      <td>0.000381</td>\n",
       "    </tr>\n",
       "    <tr>\n",
       "      <th>2</th>\n",
       "      <td>Some suits seek to delay state officials from certifying final results, a rare step that judges likely would be reluctant to take without proof of irregularities significant enough to change the election outcome, according to legal analysts. Judges have rejected several Trump campaign and allied claims. Here is a state-by-state guide to the lawsuits:     PENNSYLVANIA Republican Party of Pennsylvania v. Boockvar (link)               Filed: July 10     A lawsuit filed by Pennsylvania Republicans in July reached the U.S. Supreme Court in recent weeks. A 4-4 order let stand a state Supreme Court decision allowing officials to count mail-in ballots received up to three days after Election Day.     The court refused Republicans’ second request to hear the case before Election Day, but left open the possibility for postelection litigation.     Justice         Samuel Alito,    who backed the Pennsylvania Republicans’ position and voted to overturn the Pennsylvania Supreme Court decision, suggested in a statement accompanying the order that considering those mail-in votes valid would allow state courts to undercut election rules set by the state’s GOP-controlled legislature. Pennsylvani...</td>\n",
       "      <td>1</td>\n",
       "      <td>Center</td>\n",
       "      <td>some suits seek to delay state officials from certifying final results, a rare step that judges likely would be reluctant to take without proof of irregularities significant enough to change the election outcome, according to legal analysts. judges have rejected several trump campaign and allied claims. here is a state-by-state guide to the lawsuits: pennsylvania republican party of pennsylvania v. boockvar (link) filed: july 10 a lawsuit filed by pennsylvania republicans in july reached the u.s. supreme court in recent weeks. a 4-4 order let stand a state supreme court decision allowing officials to count mail-in ballots received up to three days after election day. the court refused republicans’ second request to hear the case before election day, but left open the possibility for postelection litigation. justice samuel alito, who backed the pennsylvania republicans’ position and voted to overturn the pennsylvania supreme court decision, suggested in a statement accompanying the order that considering those mail-in votes valid would allow state courts to undercut election rules set by the state’s gop-controlled legislature. pennsylvania secretary of state kathy boockvar direc...</td>\n",
       "      <td>0.015844</td>\n",
       "      <td>0.060280</td>\n",
       "      <td>0.003181</td>\n",
       "      <td>0.731313</td>\n",
       "      <td>0.187473</td>\n",
       "      <td>0.001908</td>\n",
       "    </tr>\n",
       "    <tr>\n",
       "      <th>3</th>\n",
       "      <td>Presumptive Democratic presidential candidate Joe Biden. | Carolyn Kaster/AP Photo A new pair of nationwide polls paint divergent pictures of the 2020 White House race — with former Vice President Joe Biden ahead by double digits in one survey and President Donald Trump significantly narrowing the presumptive Democratic nominee’s lead in the other. An ABC News/Washington Post poll released Monday morning reports that more than half of registered voters, 53 percent, prefer Biden, while 41 percent favor Trump.\\nThat 12-point advantage, however, comes hours after a CNN poll published Sunday evening showed Biden’s lead tightening to only 4 points, as Trump surged to within striking distance of his likely general election opponent. Fifty percent of registered voters in that CNN survey preferred the Democratic ticket, Biden and presumptive vice presidential nominee Kamala Harris, and 46 percent supported the Republican incumbents, Trump and Vice President Mike Pence.\\nIn the previous version of the CNN poll, released in June, Biden led Trump among registered voters by 14 points, 55-41.\\nResponding to Biden’s diminished edge over Trump, Democratic National Committee communications dir...</td>\n",
       "      <td>0</td>\n",
       "      <td>Left</td>\n",
       "      <td>presumptive democratic presidential candidate joe biden. | photo a new pair of nationwide polls paint divergent pictures of the 2020 white house race — with former vice president joe biden ahead by double digits in one survey and president donald trump significantly narrowing the presumptive democratic nominee’s lead in the other. an post poll released monday morning reports that more than half of registered voters, 53 percent, prefer biden, while 41 percent favor trump. that 12-point advantage, however, comes hours after a cnn poll published sunday evening showed biden’s lead tightening to only 4 points, as trump surged to within striking distance of his likely general election opponent. fifty percent of registered voters in that cnn survey preferred the democratic ticket, biden and presumptive vice presidential nominee kamala harris, and 46 percent supported the republican incumbents, trump and vice president mike pence. in the previous version of the cnn poll, released in june, biden led trump among registered voters by 14 points, 55-41. responding to biden’s diminished edge over trump, democratic national committee communications director xochitl hinojosa predicted monday t...</td>\n",
       "      <td>0.031925</td>\n",
       "      <td>0.055608</td>\n",
       "      <td>0.002571</td>\n",
       "      <td>0.850040</td>\n",
       "      <td>0.058902</td>\n",
       "      <td>0.000953</td>\n",
       "    </tr>\n",
       "    <tr>\n",
       "      <th>4</th>\n",
       "      <td>Supreme Court nominee Judge Brett Kavanaugh appears before the Senate Judiciary Committee during his Supreme Court confirmation hearing Tuesday.                                      Drew Angerer/Getty Images                            hide caption              toggle caption              Drew Angerer/Getty Images                                           Supreme Court nominee Judge Brett Kavanaugh appears before the Senate Judiciary Committee during his Supreme Court confirmation hearing Tuesday.                  Drew Angerer/Getty Images                  Updated at 5:22 p.m ET  Confirmation hearings for Supreme Court nominee Judge Brett Kavanaugh opened on a contentious note Tuesday, with Senate Democrats raising noisy objections that much of Kavanaugh's lengthy paper trail is still off limits.  The hearing proceeded despite Democrats' call for delay. Republicans, who control the Senate, hope to confirm Kavanaugh in time to join the high court when its fall term begins next month, cementing a 5-4 conservative majority.      At 53, Kavanaugh would be the second-youngest member of the court and the second appointed by President Trump.  Sen. Chuck Grassley, R-Iowa, who chairs the...</td>\n",
       "      <td>1</td>\n",
       "      <td>Center</td>\n",
       "      <td>supreme court nominee judge brett kavanaugh appears before the senate judiciary committee during his supreme court confirmation hearing tuesday. images images supreme court nominee judge brett kavanaugh appears before the senate judiciary committee during his supreme court confirmation hearing tuesday. images updated at 5:22 p.m et confirmation hearings for supreme court nominee judge brett kavanaugh opened on a contentious note tuesday, with senate democrats raising noisy objections that much of kavanaugh's lengthy paper trail is still off limits. the hearing proceeded despite democrats' call for delay. republicans, who control the senate, hope to confirm kavanaugh in time to join the high court when its fall term begins next month, cementing a 5-4 conservative majority. at 53, kavanaugh would be the second-youngest member of the court and the second appointed by president trump. sen. chuck grassley, r-iowa, who chairs the judiciary committee, described kavanaugh as one of the most qualified nominees he has ever encountered. the yale law school graduate has spent 12 years on the federal appeals court in washington, d.c., where he has authored hundreds of opinions. in his openi...</td>\n",
       "      <td>0.007995</td>\n",
       "      <td>0.118865</td>\n",
       "      <td>0.002081</td>\n",
       "      <td>0.858046</td>\n",
       "      <td>0.011536</td>\n",
       "      <td>0.001476</td>\n",
       "    </tr>\n",
       "  </tbody>\n",
       "</table>\n",
       "</div>"
      ],
      "text/plain": [
       "                                                                                                                                                                                                                                                                                                                                                                                                                                                                                                                                                                                                                                                                                                                                                                                                                                                                                                                                                                                                                                                                                                                                                                                                                                              text  \\\n",
       "0  The Centers for Disease Control and Prevention (CDC) released a report Friday detailing a recent COVID-19 outbreak in Provincetown, Massachusetts, which was cited by the agency as a contributing factor to its recent change in mask guidance.Over the July 4 weekend, gatherings in Provincetown contributed to at least 900 cases, and roughly 75% of those who tested positive in the cluster were vaccinated. The Provincetown report concludes that spread among highly-vaccinated populations does occur and suggests that authorities reimplement mask mandates and other mitigation measures, even for the vaccinated. The Provincetown report was a major warning sign for CDC officials, who earlier this week reversed course and once again recommended that vaccinated Americans wear face coverings in some indoor settings. A leaked internal document from the CDC included preliminary data from the Provincetown outbreak in its summary of information on breakthrough cases of the delta variant. The vaccines are working. Of the 900 cases related to the Provincetown cluster, there have been no deaths, 7 hospitalizations, and the symptoms are largely mild. Our positivity peaked at 15% on 7/15 and was only ...   \n",
       "1  The attorney for the former Port Authority official at the center of the George Washington Bridge scandal said there is evidence showing that New Jersey Gov. Chris Christie was aware of the lane closures when they happened.                                                                                                                                                      Alan L. Zegas, who is representing David Wildstein, the official who ordered the lane closures and resigned as a result last year, said in a letter to the legal counsel for the Port Authority that there is evidence “tying Mr. Christie to having knowledge of the lane closures, during the period when the lanes were closed, contrary to what the Governor stated publicly.”                                                                                                                                                      “Mr. Wildstein contests the accuracy of various statements that the Governor made about him and he can prove the inaccuracy of some,” said the attorney, Alan L. Zegas.                                                                                                                                        ...   \n",
       "2  Some suits seek to delay state officials from certifying final results, a rare step that judges likely would be reluctant to take without proof of irregularities significant enough to change the election outcome, according to legal analysts. Judges have rejected several Trump campaign and allied claims. Here is a state-by-state guide to the lawsuits:     PENNSYLVANIA Republican Party of Pennsylvania v. Boockvar (link)               Filed: July 10     A lawsuit filed by Pennsylvania Republicans in July reached the U.S. Supreme Court in recent weeks. A 4-4 order let stand a state Supreme Court decision allowing officials to count mail-in ballots received up to three days after Election Day.     The court refused Republicans’ second request to hear the case before Election Day, but left open the possibility for postelection litigation.     Justice         Samuel Alito,    who backed the Pennsylvania Republicans’ position and voted to overturn the Pennsylvania Supreme Court decision, suggested in a statement accompanying the order that considering those mail-in votes valid would allow state courts to undercut election rules set by the state’s GOP-controlled legislature. Pennsylvani...   \n",
       "3  Presumptive Democratic presidential candidate Joe Biden. | Carolyn Kaster/AP Photo A new pair of nationwide polls paint divergent pictures of the 2020 White House race — with former Vice President Joe Biden ahead by double digits in one survey and President Donald Trump significantly narrowing the presumptive Democratic nominee’s lead in the other. An ABC News/Washington Post poll released Monday morning reports that more than half of registered voters, 53 percent, prefer Biden, while 41 percent favor Trump.\\nThat 12-point advantage, however, comes hours after a CNN poll published Sunday evening showed Biden’s lead tightening to only 4 points, as Trump surged to within striking distance of his likely general election opponent. Fifty percent of registered voters in that CNN survey preferred the Democratic ticket, Biden and presumptive vice presidential nominee Kamala Harris, and 46 percent supported the Republican incumbents, Trump and Vice President Mike Pence.\\nIn the previous version of the CNN poll, released in June, Biden led Trump among registered voters by 14 points, 55-41.\\nResponding to Biden’s diminished edge over Trump, Democratic National Committee communications dir...   \n",
       "4  Supreme Court nominee Judge Brett Kavanaugh appears before the Senate Judiciary Committee during his Supreme Court confirmation hearing Tuesday.                                      Drew Angerer/Getty Images                            hide caption              toggle caption              Drew Angerer/Getty Images                                           Supreme Court nominee Judge Brett Kavanaugh appears before the Senate Judiciary Committee during his Supreme Court confirmation hearing Tuesday.                  Drew Angerer/Getty Images                  Updated at 5:22 p.m ET  Confirmation hearings for Supreme Court nominee Judge Brett Kavanaugh opened on a contentious note Tuesday, with Senate Democrats raising noisy objections that much of Kavanaugh's lengthy paper trail is still off limits.  The hearing proceeded despite Democrats' call for delay. Republicans, who control the Senate, hope to confirm Kavanaugh in time to join the high court when its fall term begins next month, cementing a 5-4 conservative majority.      At 53, Kavanaugh would be the second-youngest member of the court and the second appointed by President Trump.  Sen. Chuck Grassley, R-Iowa, who chairs the...   \n",
       "\n",
       "   label label_name  \\\n",
       "0      2      Right   \n",
       "1      2      Right   \n",
       "2      1     Center   \n",
       "3      0       Left   \n",
       "4      1     Center   \n",
       "\n",
       "                                                                                                                                                                                                                                                                                                                                                                                                                                                                                                                                                                                                                                                                                                                                                                                                                                                                                                                                                                                                                                                                                                                                                                                                                                        clean_text  \\\n",
       "0  the centers for disease control and prevention (cdc) released a report friday detailing a recent covid-19 outbreak in provincetown, massachusetts, which was cited by the agency as a contributing factor to its recent change in mask guidance.over the july 4 weekend, gatherings in provincetown contributed to at least 900 cases, and roughly 75% of those who tested positive in the cluster were vaccinated. the provincetown report concludes that spread among highly-vaccinated populations does occur and suggests that authorities reimplement mask mandates and other mitigation measures, even for the vaccinated. the provincetown report was a major warning sign for cdc officials, who earlier this week reversed course and once again recommended that vaccinated americans wear face coverings in some indoor settings. a leaked internal document from the cdc included preliminary data from the provincetown outbreak in its summary of information on breakthrough cases of the delta variant. the vaccines are working. of the 900 cases related to the provincetown cluster, there have been no deaths, 7 hospitalizations, and the symptoms are largely mild. our positivity peaked at 15% and was only 4.8% yes...   \n",
       "1  the attorney for the former port authority official at the center of the george washington bridge scandal said there is evidence showing that new jersey gov. chris christie was aware of the lane closures when they happened. alan l. zegas, who is representing david wildstein, the official who ordered the lane closures and resigned as a result last year, said in a letter to the legal counsel for the port authority that there is evidence “tying mr. christie to having knowledge of the lane closures, during the period when the lanes were closed, contrary to what the governor stated publicly.” “mr. wildstein contests the accuracy of various statements that the governor made about him and he can prove the inaccuracy of some,” said the attorney, alan l. zegas. the new allegations surfaced as part of an ongoing spat over whether the port authority should cover the legal expenses of mr. wildstein, and raise new questions about what mr. christie knew about the mid-september lane closures on the george washington bridge. emails seemed to indicate the traffic jams were orchestrated by members of mr. christie’s inner circle and his allies at the port authority, including mr. wildstein, and w...   \n",
       "2  some suits seek to delay state officials from certifying final results, a rare step that judges likely would be reluctant to take without proof of irregularities significant enough to change the election outcome, according to legal analysts. judges have rejected several trump campaign and allied claims. here is a state-by-state guide to the lawsuits: pennsylvania republican party of pennsylvania v. boockvar (link) filed: july 10 a lawsuit filed by pennsylvania republicans in july reached the u.s. supreme court in recent weeks. a 4-4 order let stand a state supreme court decision allowing officials to count mail-in ballots received up to three days after election day. the court refused republicans’ second request to hear the case before election day, but left open the possibility for postelection litigation. justice samuel alito, who backed the pennsylvania republicans’ position and voted to overturn the pennsylvania supreme court decision, suggested in a statement accompanying the order that considering those mail-in votes valid would allow state courts to undercut election rules set by the state’s gop-controlled legislature. pennsylvania secretary of state kathy boockvar direc...   \n",
       "3  presumptive democratic presidential candidate joe biden. | photo a new pair of nationwide polls paint divergent pictures of the 2020 white house race — with former vice president joe biden ahead by double digits in one survey and president donald trump significantly narrowing the presumptive democratic nominee’s lead in the other. an post poll released monday morning reports that more than half of registered voters, 53 percent, prefer biden, while 41 percent favor trump. that 12-point advantage, however, comes hours after a cnn poll published sunday evening showed biden’s lead tightening to only 4 points, as trump surged to within striking distance of his likely general election opponent. fifty percent of registered voters in that cnn survey preferred the democratic ticket, biden and presumptive vice presidential nominee kamala harris, and 46 percent supported the republican incumbents, trump and vice president mike pence. in the previous version of the cnn poll, released in june, biden led trump among registered voters by 14 points, 55-41. responding to biden’s diminished edge over trump, democratic national committee communications director xochitl hinojosa predicted monday t...   \n",
       "4  supreme court nominee judge brett kavanaugh appears before the senate judiciary committee during his supreme court confirmation hearing tuesday. images images supreme court nominee judge brett kavanaugh appears before the senate judiciary committee during his supreme court confirmation hearing tuesday. images updated at 5:22 p.m et confirmation hearings for supreme court nominee judge brett kavanaugh opened on a contentious note tuesday, with senate democrats raising noisy objections that much of kavanaugh's lengthy paper trail is still off limits. the hearing proceeded despite democrats' call for delay. republicans, who control the senate, hope to confirm kavanaugh in time to join the high court when its fall term begins next month, cementing a 5-4 conservative majority. at 53, kavanaugh would be the second-youngest member of the court and the second appointed by president trump. sen. chuck grassley, r-iowa, who chairs the judiciary committee, described kavanaugh as one of the most qualified nominees he has ever encountered. the yale law school graduate has spent 12 years on the federal appeals court in washington, d.c., where he has authored hundreds of opinions. in his openi...   \n",
       "\n",
       "    sadness       joy      love     anger      fear  surprise  \n",
       "0  0.014373  0.141423  0.002109  0.026873  0.812825  0.002396  \n",
       "1  0.003125  0.002788  0.000504  0.974593  0.018608  0.000381  \n",
       "2  0.015844  0.060280  0.003181  0.731313  0.187473  0.001908  \n",
       "3  0.031925  0.055608  0.002571  0.850040  0.058902  0.000953  \n",
       "4  0.007995  0.118865  0.002081  0.858046  0.011536  0.001476  "
      ]
     },
     "execution_count": 116,
     "metadata": {},
     "output_type": "execute_result"
    }
   ],
   "source": [
    "final_df.head()"
   ]
  },
  {
   "cell_type": "markdown",
   "metadata": {},
   "source": [
    "Emotion scores for Left, Center and Right"
   ]
  },
  {
   "cell_type": "code",
   "execution_count": 117,
   "metadata": {},
   "outputs": [
    {
     "data": {
      "text/html": [
       "<div>\n",
       "<style scoped>\n",
       "    .dataframe tbody tr th:only-of-type {\n",
       "        vertical-align: middle;\n",
       "    }\n",
       "\n",
       "    .dataframe tbody tr th {\n",
       "        vertical-align: top;\n",
       "    }\n",
       "\n",
       "    .dataframe thead th {\n",
       "        text-align: right;\n",
       "    }\n",
       "</style>\n",
       "<table border=\"1\" class=\"dataframe\">\n",
       "  <thead>\n",
       "    <tr style=\"text-align: right;\">\n",
       "      <th>emotion</th>\n",
       "      <th>label_name</th>\n",
       "      <th>anger</th>\n",
       "      <th>fear</th>\n",
       "      <th>joy</th>\n",
       "      <th>love</th>\n",
       "      <th>sadness</th>\n",
       "      <th>surprise</th>\n",
       "    </tr>\n",
       "  </thead>\n",
       "  <tbody>\n",
       "    <tr>\n",
       "      <th>0</th>\n",
       "      <td>Center</td>\n",
       "      <td>0.555122</td>\n",
       "      <td>0.134222</td>\n",
       "      <td>0.215239</td>\n",
       "      <td>0.006213</td>\n",
       "      <td>0.087113</td>\n",
       "      <td>0.002091</td>\n",
       "    </tr>\n",
       "    <tr>\n",
       "      <th>1</th>\n",
       "      <td>Left</td>\n",
       "      <td>0.562111</td>\n",
       "      <td>0.129473</td>\n",
       "      <td>0.210707</td>\n",
       "      <td>0.007226</td>\n",
       "      <td>0.085093</td>\n",
       "      <td>0.005392</td>\n",
       "    </tr>\n",
       "    <tr>\n",
       "      <th>2</th>\n",
       "      <td>Right</td>\n",
       "      <td>0.553004</td>\n",
       "      <td>0.133339</td>\n",
       "      <td>0.222702</td>\n",
       "      <td>0.006010</td>\n",
       "      <td>0.081929</td>\n",
       "      <td>0.003016</td>\n",
       "    </tr>\n",
       "  </tbody>\n",
       "</table>\n",
       "</div>"
      ],
      "text/plain": [
       "emotion label_name     anger      fear       joy      love   sadness  surprise\n",
       "0           Center  0.555122  0.134222  0.215239  0.006213  0.087113  0.002091\n",
       "1             Left  0.562111  0.129473  0.210707  0.007226  0.085093  0.005392\n",
       "2            Right  0.553004  0.133339  0.222702  0.006010  0.081929  0.003016"
      ]
     },
     "execution_count": 117,
     "metadata": {},
     "output_type": "execute_result"
    }
   ],
   "source": [
    "# Step 1: Melt the final_df to separate emotion scores into rows\n",
    "melted_df = final_df.melt(id_vars=['label_name'], value_vars=scores_df_reset.columns, \n",
    "                          var_name='emotion', value_name='score')\n",
    "\n",
    "# Step 2: Group by 'label_name' and 'emotion' to calculate the average score\n",
    "grouped_df = melted_df.groupby(['label_name', 'emotion'], as_index=False)['score'].mean()\n",
    "\n",
    "# Step 3: Pivot the grouped DataFrame to have emotions as columns\n",
    "pivoted_df = grouped_df.pivot(index='label_name', columns='emotion', values='score')\n",
    "\n",
    "# Step 4: Reset the index to make 'label_name' a column\n",
    "pivoted_df.reset_index(inplace=True)\n",
    "\n",
    "# View the result\n",
    "pivoted_df.head()\n"
   ]
  },
  {
   "cell_type": "code",
   "execution_count": null,
   "metadata": {},
   "outputs": [],
   "source": []
  },
  {
   "cell_type": "markdown",
   "metadata": {},
   "source": [
    "# Sentiment Analysis\n",
    "\n",
    "I performed sentiment analysis using the [`twitter-roberta-base-sentiment`](https://huggingface.co/cardiffnlp/twitter-roberta-base-sentiment) model on the same 40% sample to understand the average sentiment associated with each political leaning.\n",
    "\n",
    "- **Model Used**:  \n",
    "  [`twitter-roberta-base-sentiment`](https://huggingface.co/cardiffnlp/twitter-roberta-base-sentiment) — a model trained on Twitter data to classify sentiment as **positive**, **neutral**, or **negative**.\n",
    "\n",
    "- **Sample Size**:  \n",
    "  A 40% random sample of the dataset was used, consistent with the emotion analysis for comparability.\n",
    "\n",
    "- **Normalization**:  \n",
    "  Sentiment scores were normalized on a scale from **-1 (negative)** to **+1 (positive)** to allow for intuitive interpretation and aggregation.\n",
    "\n",
    "- **Post-Processing**:  \n",
    "  After scoring, the data was grouped by **political leaning**, and the **average sentiment score** was calculated for each group. This enabled a comparative view of sentiment trends across political ideologies.\n"
   ]
  },
  {
   "cell_type": "code",
   "execution_count": 118,
   "metadata": {},
   "outputs": [],
   "source": [
    "\n",
    "import numpy as np\n",
    "\n",
    "# Text processing\n",
    "import re\n",
    "from tqdm import tqdm  # For progress bars\n",
    "\n",
    "# Machine learning and model related\n",
    "from transformers import pipeline, AutoTokenizer\n",
    "from sklearn.model_selection import train_test_split"
   ]
  },
  {
   "cell_type": "code",
   "execution_count": null,
   "metadata": {},
   "outputs": [],
   "source": []
  },
  {
   "cell_type": "code",
   "execution_count": 119,
   "metadata": {},
   "outputs": [],
   "source": [
    "def get_transformer_sentiment(texts, model_name=\"cardiffnlp/twitter-roberta-base-sentiment\"):\n",
    "    # Load tokenizer and pipeline\n",
    "    tokenizer = AutoTokenizer.from_pretrained(model_name)\n",
    "    sentiment_pipeline = pipeline(\"sentiment-analysis\", model=model_name)\n",
    "    max_length = 512\n",
    "\n",
    "    # Truncate each text by tokens\n",
    "    truncated_texts = []\n",
    "    for text in texts:\n",
    "        # Tokenize and truncate\n",
    "        tokens = tokenizer.encode(str(text), max_length=max_length, truncation=True)\n",
    "        # Decode back to string\n",
    "        truncated_text = tokenizer.decode(tokens, skip_special_tokens=True)\n",
    "        truncated_texts.append(truncated_text)\n",
    "\n",
    "    results = sentiment_pipeline(truncated_texts)\n",
    "    return [r['score'] if r['label'] == 'POSITIVE' else -r['score'] for r in results]\n"
   ]
  },
  {
   "cell_type": "code",
   "execution_count": 120,
   "metadata": {},
   "outputs": [],
   "source": [
    "sample_df_reset['sentiment_score'] = get_transformer_sentiment(sample_df_reset['clean_text'])"
   ]
  },
  {
   "cell_type": "code",
   "execution_count": 121,
   "metadata": {},
   "outputs": [
    {
     "data": {
      "text/html": [
       "<div>\n",
       "<style scoped>\n",
       "    .dataframe tbody tr th:only-of-type {\n",
       "        vertical-align: middle;\n",
       "    }\n",
       "\n",
       "    .dataframe tbody tr th {\n",
       "        vertical-align: top;\n",
       "    }\n",
       "\n",
       "    .dataframe thead th {\n",
       "        text-align: right;\n",
       "    }\n",
       "</style>\n",
       "<table border=\"1\" class=\"dataframe\">\n",
       "  <thead>\n",
       "    <tr style=\"text-align: right;\">\n",
       "      <th></th>\n",
       "      <th>text</th>\n",
       "      <th>label</th>\n",
       "      <th>label_name</th>\n",
       "      <th>clean_text</th>\n",
       "      <th>sentiment_score</th>\n",
       "    </tr>\n",
       "  </thead>\n",
       "  <tbody>\n",
       "    <tr>\n",
       "      <th>0</th>\n",
       "      <td>The Centers for Disease Control and Prevention (CDC) released a report Friday detailing a recent COVID-19 outbreak in Provincetown, Massachusetts, which was cited by the agency as a contributing factor to its recent change in mask guidance.Over the July 4 weekend, gatherings in Provincetown contributed to at least 900 cases, and roughly 75% of those who tested positive in the cluster were vaccinated. The Provincetown report concludes that spread among highly-vaccinated populations does occur and suggests that authorities reimplement mask mandates and other mitigation measures, even for the vaccinated. The Provincetown report was a major warning sign for CDC officials, who earlier this week reversed course and once again recommended that vaccinated Americans wear face coverings in some indoor settings. A leaked internal document from the CDC included preliminary data from the Provincetown outbreak in its summary of information on breakthrough cases of the delta variant. The vaccines are working. Of the 900 cases related to the Provincetown cluster, there have been no deaths, 7 hospitalizations, and the symptoms are largely mild. Our positivity peaked at 15% on 7/15 and was only ...</td>\n",
       "      <td>2</td>\n",
       "      <td>Right</td>\n",
       "      <td>the centers for disease control and prevention (cdc) released a report friday detailing a recent covid-19 outbreak in provincetown, massachusetts, which was cited by the agency as a contributing factor to its recent change in mask guidance.over the july 4 weekend, gatherings in provincetown contributed to at least 900 cases, and roughly 75% of those who tested positive in the cluster were vaccinated. the provincetown report concludes that spread among highly-vaccinated populations does occur and suggests that authorities reimplement mask mandates and other mitigation measures, even for the vaccinated. the provincetown report was a major warning sign for cdc officials, who earlier this week reversed course and once again recommended that vaccinated americans wear face coverings in some indoor settings. a leaked internal document from the cdc included preliminary data from the provincetown outbreak in its summary of information on breakthrough cases of the delta variant. the vaccines are working. of the 900 cases related to the provincetown cluster, there have been no deaths, 7 hospitalizations, and the symptoms are largely mild. our positivity peaked at 15% and was only 4.8% yes...</td>\n",
       "      <td>-0.660263</td>\n",
       "    </tr>\n",
       "    <tr>\n",
       "      <th>1</th>\n",
       "      <td>The attorney for the former Port Authority official at the center of the George Washington Bridge scandal said there is evidence showing that New Jersey Gov. Chris Christie was aware of the lane closures when they happened.                                                                                                                                                      Alan L. Zegas, who is representing David Wildstein, the official who ordered the lane closures and resigned as a result last year, said in a letter to the legal counsel for the Port Authority that there is evidence “tying Mr. Christie to having knowledge of the lane closures, during the period when the lanes were closed, contrary to what the Governor stated publicly.”                                                                                                                                                      “Mr. Wildstein contests the accuracy of various statements that the Governor made about him and he can prove the inaccuracy of some,” said the attorney, Alan L. Zegas.                                                                                                                                        ...</td>\n",
       "      <td>2</td>\n",
       "      <td>Right</td>\n",
       "      <td>the attorney for the former port authority official at the center of the george washington bridge scandal said there is evidence showing that new jersey gov. chris christie was aware of the lane closures when they happened. alan l. zegas, who is representing david wildstein, the official who ordered the lane closures and resigned as a result last year, said in a letter to the legal counsel for the port authority that there is evidence “tying mr. christie to having knowledge of the lane closures, during the period when the lanes were closed, contrary to what the governor stated publicly.” “mr. wildstein contests the accuracy of various statements that the governor made about him and he can prove the inaccuracy of some,” said the attorney, alan l. zegas. the new allegations surfaced as part of an ongoing spat over whether the port authority should cover the legal expenses of mr. wildstein, and raise new questions about what mr. christie knew about the mid-september lane closures on the george washington bridge. emails seemed to indicate the traffic jams were orchestrated by members of mr. christie’s inner circle and his allies at the port authority, including mr. wildstein, and w...</td>\n",
       "      <td>-0.586291</td>\n",
       "    </tr>\n",
       "    <tr>\n",
       "      <th>2</th>\n",
       "      <td>Some suits seek to delay state officials from certifying final results, a rare step that judges likely would be reluctant to take without proof of irregularities significant enough to change the election outcome, according to legal analysts. Judges have rejected several Trump campaign and allied claims. Here is a state-by-state guide to the lawsuits:     PENNSYLVANIA Republican Party of Pennsylvania v. Boockvar (link)               Filed: July 10     A lawsuit filed by Pennsylvania Republicans in July reached the U.S. Supreme Court in recent weeks. A 4-4 order let stand a state Supreme Court decision allowing officials to count mail-in ballots received up to three days after Election Day.     The court refused Republicans’ second request to hear the case before Election Day, but left open the possibility for postelection litigation.     Justice         Samuel Alito,    who backed the Pennsylvania Republicans’ position and voted to overturn the Pennsylvania Supreme Court decision, suggested in a statement accompanying the order that considering those mail-in votes valid would allow state courts to undercut election rules set by the state’s GOP-controlled legislature. Pennsylvani...</td>\n",
       "      <td>1</td>\n",
       "      <td>Center</td>\n",
       "      <td>some suits seek to delay state officials from certifying final results, a rare step that judges likely would be reluctant to take without proof of irregularities significant enough to change the election outcome, according to legal analysts. judges have rejected several trump campaign and allied claims. here is a state-by-state guide to the lawsuits: pennsylvania republican party of pennsylvania v. boockvar (link) filed: july 10 a lawsuit filed by pennsylvania republicans in july reached the u.s. supreme court in recent weeks. a 4-4 order let stand a state supreme court decision allowing officials to count mail-in ballots received up to three days after election day. the court refused republicans’ second request to hear the case before election day, but left open the possibility for postelection litigation. justice samuel alito, who backed the pennsylvania republicans’ position and voted to overturn the pennsylvania supreme court decision, suggested in a statement accompanying the order that considering those mail-in votes valid would allow state courts to undercut election rules set by the state’s gop-controlled legislature. pennsylvania secretary of state kathy boockvar direc...</td>\n",
       "      <td>-0.659085</td>\n",
       "    </tr>\n",
       "  </tbody>\n",
       "</table>\n",
       "</div>"
      ],
      "text/plain": [
       "                                                                                                                                                                                                                                                                                                                                                                                                                                                                                                                                                                                                                                                                                                                                                                                                                                                                                                                                                                                                                                                                                                                                                                                                                                              text  \\\n",
       "0  The Centers for Disease Control and Prevention (CDC) released a report Friday detailing a recent COVID-19 outbreak in Provincetown, Massachusetts, which was cited by the agency as a contributing factor to its recent change in mask guidance.Over the July 4 weekend, gatherings in Provincetown contributed to at least 900 cases, and roughly 75% of those who tested positive in the cluster were vaccinated. The Provincetown report concludes that spread among highly-vaccinated populations does occur and suggests that authorities reimplement mask mandates and other mitigation measures, even for the vaccinated. The Provincetown report was a major warning sign for CDC officials, who earlier this week reversed course and once again recommended that vaccinated Americans wear face coverings in some indoor settings. A leaked internal document from the CDC included preliminary data from the Provincetown outbreak in its summary of information on breakthrough cases of the delta variant. The vaccines are working. Of the 900 cases related to the Provincetown cluster, there have been no deaths, 7 hospitalizations, and the symptoms are largely mild. Our positivity peaked at 15% on 7/15 and was only ...   \n",
       "1  The attorney for the former Port Authority official at the center of the George Washington Bridge scandal said there is evidence showing that New Jersey Gov. Chris Christie was aware of the lane closures when they happened.                                                                                                                                                      Alan L. Zegas, who is representing David Wildstein, the official who ordered the lane closures and resigned as a result last year, said in a letter to the legal counsel for the Port Authority that there is evidence “tying Mr. Christie to having knowledge of the lane closures, during the period when the lanes were closed, contrary to what the Governor stated publicly.”                                                                                                                                                      “Mr. Wildstein contests the accuracy of various statements that the Governor made about him and he can prove the inaccuracy of some,” said the attorney, Alan L. Zegas.                                                                                                                                        ...   \n",
       "2  Some suits seek to delay state officials from certifying final results, a rare step that judges likely would be reluctant to take without proof of irregularities significant enough to change the election outcome, according to legal analysts. Judges have rejected several Trump campaign and allied claims. Here is a state-by-state guide to the lawsuits:     PENNSYLVANIA Republican Party of Pennsylvania v. Boockvar (link)               Filed: July 10     A lawsuit filed by Pennsylvania Republicans in July reached the U.S. Supreme Court in recent weeks. A 4-4 order let stand a state Supreme Court decision allowing officials to count mail-in ballots received up to three days after Election Day.     The court refused Republicans’ second request to hear the case before Election Day, but left open the possibility for postelection litigation.     Justice         Samuel Alito,    who backed the Pennsylvania Republicans’ position and voted to overturn the Pennsylvania Supreme Court decision, suggested in a statement accompanying the order that considering those mail-in votes valid would allow state courts to undercut election rules set by the state’s GOP-controlled legislature. Pennsylvani...   \n",
       "\n",
       "   label label_name  \\\n",
       "0      2      Right   \n",
       "1      2      Right   \n",
       "2      1     Center   \n",
       "\n",
       "                                                                                                                                                                                                                                                                                                                                                                                                                                                                                                                                                                                                                                                                                                                                                                                                                                                                                                                                                                                                                                                                                                                                                                                                                                        clean_text  \\\n",
       "0  the centers for disease control and prevention (cdc) released a report friday detailing a recent covid-19 outbreak in provincetown, massachusetts, which was cited by the agency as a contributing factor to its recent change in mask guidance.over the july 4 weekend, gatherings in provincetown contributed to at least 900 cases, and roughly 75% of those who tested positive in the cluster were vaccinated. the provincetown report concludes that spread among highly-vaccinated populations does occur and suggests that authorities reimplement mask mandates and other mitigation measures, even for the vaccinated. the provincetown report was a major warning sign for cdc officials, who earlier this week reversed course and once again recommended that vaccinated americans wear face coverings in some indoor settings. a leaked internal document from the cdc included preliminary data from the provincetown outbreak in its summary of information on breakthrough cases of the delta variant. the vaccines are working. of the 900 cases related to the provincetown cluster, there have been no deaths, 7 hospitalizations, and the symptoms are largely mild. our positivity peaked at 15% and was only 4.8% yes...   \n",
       "1  the attorney for the former port authority official at the center of the george washington bridge scandal said there is evidence showing that new jersey gov. chris christie was aware of the lane closures when they happened. alan l. zegas, who is representing david wildstein, the official who ordered the lane closures and resigned as a result last year, said in a letter to the legal counsel for the port authority that there is evidence “tying mr. christie to having knowledge of the lane closures, during the period when the lanes were closed, contrary to what the governor stated publicly.” “mr. wildstein contests the accuracy of various statements that the governor made about him and he can prove the inaccuracy of some,” said the attorney, alan l. zegas. the new allegations surfaced as part of an ongoing spat over whether the port authority should cover the legal expenses of mr. wildstein, and raise new questions about what mr. christie knew about the mid-september lane closures on the george washington bridge. emails seemed to indicate the traffic jams were orchestrated by members of mr. christie’s inner circle and his allies at the port authority, including mr. wildstein, and w...   \n",
       "2  some suits seek to delay state officials from certifying final results, a rare step that judges likely would be reluctant to take without proof of irregularities significant enough to change the election outcome, according to legal analysts. judges have rejected several trump campaign and allied claims. here is a state-by-state guide to the lawsuits: pennsylvania republican party of pennsylvania v. boockvar (link) filed: july 10 a lawsuit filed by pennsylvania republicans in july reached the u.s. supreme court in recent weeks. a 4-4 order let stand a state supreme court decision allowing officials to count mail-in ballots received up to three days after election day. the court refused republicans’ second request to hear the case before election day, but left open the possibility for postelection litigation. justice samuel alito, who backed the pennsylvania republicans’ position and voted to overturn the pennsylvania supreme court decision, suggested in a statement accompanying the order that considering those mail-in votes valid would allow state courts to undercut election rules set by the state’s gop-controlled legislature. pennsylvania secretary of state kathy boockvar direc...   \n",
       "\n",
       "   sentiment_score  \n",
       "0        -0.660263  \n",
       "1        -0.586291  \n",
       "2        -0.659085  "
      ]
     },
     "execution_count": 121,
     "metadata": {},
     "output_type": "execute_result"
    }
   ],
   "source": [
    "sample_df_reset.head(3)"
   ]
  },
  {
   "cell_type": "code",
   "execution_count": 122,
   "metadata": {},
   "outputs": [
    {
     "name": "stdout",
     "output_type": "stream",
     "text": [
      "Mean Sentiment Scores by Political Bias:\n",
      "\n",
      " label_name\n",
      "Center   -0.605141\n",
      "Left     -0.597125\n",
      "Right    -0.601080\n",
      "Name: sentiment_score, dtype: float64\n"
     ]
    }
   ],
   "source": [
    "# Calculate mean sentiment scores by label_name\n",
    "mean_sentiments = sample_df_reset.groupby('label_name')['sentiment_score'].mean()\n",
    "\n",
    "# Display the results\n",
    "print(\"Mean Sentiment Scores by Political Bias:\")\n",
    "print(\"\\n\", mean_sentiments)\n"
   ]
  },
  {
   "cell_type": "markdown",
   "metadata": {},
   "source": [
    "#### Violin Plot to show distribution"
   ]
  },
  {
   "cell_type": "code",
   "execution_count": 123,
   "metadata": {},
   "outputs": [
    {
     "data": {
      "image/png": "[encoded data removed]",
      "text/plain": [
       "<Figure size 1000x600 with 1 Axes>"
      ]
     },
     "metadata": {},
     "output_type": "display_data"
    }
   ],
   "source": [
    "import matplotlib.pyplot as plt\n",
    "import seaborn as sns\n",
    "\n",
    "plt.figure(figsize=(10, 6))\n",
    "sns.violinplot(x=sample_df_reset['label_name'], y=sample_df_reset['sentiment_score'])\n",
    "plt.title('Sentiment Scores Distribution by Political Bias')\n",
    "plt.xlabel('Political Bias')\n",
    "plt.ylabel('Sentiment Score')\n",
    "plt.xticks(rotation=45)\n",
    "plt.tight_layout()\n",
    "plt.show()"
   ]
  },
  {
   "cell_type": "markdown",
   "metadata": {},
   "source": [
    "### Conclusion: Sentiment Analysis by Political Bias\n",
    "\n",
    "The violin plot above illustrates the distribution of normalized sentiment scores across different political leanings — **Left**, **Center**, and **Right**. All three groups display a negative average sentiment, with the majority of scores clustering between **-0.5 and -0.7**.\n",
    "\n",
    "#### Mean Sentiment Scores:\n",
    "- **Center**: -0.605  \n",
    "- **Left**: -0.597  \n",
    "- **Right**: -0.601  \n",
    "\n",
    "#### Key Insights:\n",
    "- **Overall negativity**: Articles across all political biases tend to carry a predominantly negative tone.\n",
    "- **Slight variation**: The **Left-leaning** articles exhibit marginally less negativity on average compared to Center and Right, though the differences are not large enough to indicate any stark contrast.\n",
    "- **Consistency**: The sentiment spread and central tendency are relatively uniform, suggesting that emotional framing in political content may be a generalized trait rather than highly polarized across biases.\n",
    "\n",
    "This suggests that while political bias influences emotional tone (as seen in emotion classification), sentiment — especially negativity — is consistently present across the spectrum.\n"
   ]
  },
  {
   "cell_type": "code",
   "execution_count": 124,
   "metadata": {},
   "outputs": [
    {
     "name": "stdout",
     "output_type": "stream",
     "text": [
      "Progress saved to projectfiles.pkl\n"
     ]
    }
   ],
   "source": [
    "import pickle\n",
    "\n",
    "# Specify what variables you want to save\n",
    "data_to_save = {}\n",
    "# Add your variables to the dictionary\n",
    "data_to_save['sample_df_reset'] = sample_df_reset\n",
    "data_to_save['df'] = df\n",
    "data_to_save['final_df'] = final_df\n",
    "data_to_save['pivoted_df'] = pivoted_df\n",
    "data_to_save['mean_sentiments'] = mean_sentiments\n",
    "# Save to pickle file\n",
    "output_path = 'projectfiles.pkl'\n",
    "with open(output_path, 'wb') as f:\n",
    "    pickle.dump(data_to_save, f)\n",
    "\n",
    "print(f'Progress saved to {output_path}')"
   ]
  },
  {
   "cell_type": "code",
   "execution_count": null,
   "metadata": {},
   "outputs": [],
   "source": []
  },
  {
   "cell_type": "markdown",
   "metadata": {},
   "source": [
    "# Sensationalism Labeling using GPT-3.5 Turbo\n",
    "\n",
    "To evaluate the presence of sensationalism in political articles, I used **OpenAI’s GPT-3.5 Turbo** model with a carefully designed prompt for binary classification: *sensationalistic* vs *not sensationalistic*.\n",
    "\n",
    "- **Sample Size**:  \n",
    "  A 10% sample of the dataset was selected to manage token limits and reduce cost.\n",
    "\n",
    "- **Token Constraint**:  \n",
    "  Each article was truncated or summarized to fit within a **1024-token** input limit.\n",
    "\n",
    "- **Prompting and Parameters**:  \n",
    "  I used an appropriate prompting strategy to ensure consistent interpretation. The **temperature was set to 0.0** to ensure deterministic responses and eliminate randomness in classification.\n",
    "\n",
    "- **Post-Processing**:  \n",
    "  The results were grouped by **political leaning**, and I counted the number of articles labeled as sensationalistic versus not.  \n",
    "  I then calculated the **proportion of sensationalistic articles** for each political bias, enabling a comparative analysis.\n",
    "\n",
    "This analysis allows us to explore whether certain political leanings exhibit a higher tendency toward sensationalism in their article narratives.\n"
   ]
  },
  {
   "cell_type": "code",
   "execution_count": 125,
   "metadata": {},
   "outputs": [],
   "source": [
    "sample_df2, _ = train_test_split(df, train_size=0.1, stratify=df[\"label_name\"], random_state=42)"
   ]
  },
  {
   "cell_type": "code",
   "execution_count": 126,
   "metadata": {},
   "outputs": [],
   "source": [
    "# 1. Local tokenizer-based truncation\n",
    "def truncate_text_to_tokens(text: str,\n",
    "                            max_tokens: int = 1024,\n",
    "                            model_name: str = \"gpt-4-turbo\") -> str:\n",
    "    # get the right encoding for the model\n",
    "    enc = tiktoken.encoding_for_model(model_name)\n",
    "    token_ids = enc.encode(text)\n",
    "    \n",
    "    # truncate if too long\n",
    "    if len(token_ids) > max_tokens:\n",
    "        token_ids = token_ids[:max_tokens]\n",
    "    \n",
    "    return enc.decode(token_ids)"
   ]
  },
  {
   "cell_type": "code",
   "execution_count": 128,
   "metadata": {},
   "outputs": [
    {
     "name": "stdout",
     "output_type": "stream",
     "text": [
      "Collecting openai\n",
      "  Downloading openai-1.76.0-py3-none-any.whl.metadata (25 kB)\n",
      "Collecting tiktoken\n",
      "  Downloading tiktoken-0.7.0-cp38-cp38-win_amd64.whl.metadata (6.8 kB)\n",
      "Requirement already satisfied: anyio<5,>=3.5.0 in c:\\users\\mudas\\anaconda3\\envs\\tf_env\\lib\\site-packages (from openai) (4.5.0)\n",
      "Collecting distro<2,>=1.7.0 (from openai)\n",
      "  Using cached distro-1.9.0-py3-none-any.whl.metadata (6.8 kB)\n",
      "Requirement already satisfied: httpx<1,>=0.23.0 in c:\\users\\mudas\\anaconda3\\envs\\tf_env\\lib\\site-packages (from openai) (0.27.2)\n",
      "Collecting jiter<1,>=0.4.0 (from openai)\n",
      "  Downloading jiter-0.9.0-cp38-cp38-win_amd64.whl.metadata (5.3 kB)\n",
      "Requirement already satisfied: pydantic<3,>=1.9.0 in c:\\users\\mudas\\anaconda3\\envs\\tf_env\\lib\\site-packages (from openai) (1.10.21)\n",
      "Requirement already satisfied: sniffio in c:\\users\\mudas\\anaconda3\\envs\\tf_env\\lib\\site-packages (from openai) (1.3.1)\n",
      "Requirement already satisfied: tqdm>4 in c:\\users\\mudas\\anaconda3\\envs\\tf_env\\lib\\site-packages (from openai) (4.66.5)\n",
      "Requirement already satisfied: typing-extensions<5,>=4.11 in c:\\users\\mudas\\anaconda3\\envs\\tf_env\\lib\\site-packages (from openai) (4.12.2)\n",
      "Requirement already satisfied: regex>=2022.1.18 in c:\\users\\mudas\\anaconda3\\envs\\tf_env\\lib\\site-packages (from tiktoken) (2024.9.11)\n",
      "Requirement already satisfied: requests>=2.26.0 in c:\\users\\mudas\\anaconda3\\envs\\tf_env\\lib\\site-packages (from tiktoken) (2.32.3)\n",
      "Requirement already satisfied: idna>=2.8 in c:\\users\\mudas\\anaconda3\\envs\\tf_env\\lib\\site-packages (from anyio<5,>=3.5.0->openai) (3.10)\n",
      "Requirement already satisfied: exceptiongroup>=1.0.2 in c:\\users\\mudas\\anaconda3\\envs\\tf_env\\lib\\site-packages (from anyio<5,>=3.5.0->openai) (1.2.2)\n",
      "Requirement already satisfied: certifi in c:\\users\\mudas\\anaconda3\\envs\\tf_env\\lib\\site-packages (from httpx<1,>=0.23.0->openai) (2024.8.30)\n",
      "Requirement already satisfied: httpcore==1.* in c:\\users\\mudas\\anaconda3\\envs\\tf_env\\lib\\site-packages (from httpx<1,>=0.23.0->openai) (1.0.5)\n",
      "Requirement already satisfied: h11<0.15,>=0.13 in c:\\users\\mudas\\anaconda3\\envs\\tf_env\\lib\\site-packages (from httpcore==1.*->httpx<1,>=0.23.0->openai) (0.14.0)\n",
      "Requirement already satisfied: charset-normalizer<4,>=2 in c:\\users\\mudas\\anaconda3\\envs\\tf_env\\lib\\site-packages (from requests>=2.26.0->tiktoken) (3.3.2)\n",
      "Requirement already satisfied: urllib3<3,>=1.21.1 in c:\\users\\mudas\\anaconda3\\envs\\tf_env\\lib\\site-packages (from requests>=2.26.0->tiktoken) (1.26.20)\n",
      "Requirement already satisfied: colorama in c:\\users\\mudas\\anaconda3\\envs\\tf_env\\lib\\site-packages (from tqdm>4->openai) (0.4.6)\n",
      "Downloading openai-1.76.0-py3-none-any.whl (661 kB)\n",
      "   ---------------------------------------- 0.0/661.2 kB ? eta -:--:--\n",
      "   --------------- ------------------------ 262.1/661.2 kB ? eta -:--:--\n",
      "   ---------------------------------------- 661.2/661.2 kB 2.3 MB/s eta 0:00:00\n",
      "Downloading tiktoken-0.7.0-cp38-cp38-win_amd64.whl (798 kB)\n",
      "   ---------------------------------------- 0.0/798.9 kB ? eta -:--:--\n",
      "   -------------------------- ------------- 524.3/798.9 kB 3.4 MB/s eta 0:00:01\n",
      "   ---------------------------------------- 798.9/798.9 kB 3.1 MB/s eta 0:00:00\n",
      "Using cached distro-1.9.0-py3-none-any.whl (20 kB)\n",
      "Downloading jiter-0.9.0-cp38-cp38-win_amd64.whl (198 kB)\n",
      "Installing collected packages: jiter, distro, tiktoken, openai\n",
      "Successfully installed distro-1.9.0 jiter-0.9.0 openai-1.76.0 tiktoken-0.7.0\n"
     ]
    }
   ],
   "source": [
    "!pip install openai tiktoken \n"
   ]
  },
  {
   "cell_type": "code",
   "execution_count": 137,
   "metadata": {},
   "outputs": [],
   "source": [
    "import os\n",
    "import openai\n",
    "import tiktoken\n",
    "\n",
    "\n",
    "\n",
    "\n",
    "openai.api_key = \"YOUR_API_KEY\"\n",
    "\n",
    "def label_sensationalism(article_text: str) -> str:\n",
    "    # first, ensure we don't exceed token limit\n",
    "    truncated = truncate_text_to_tokens(article_text, max_tokens=1024)\n",
    "    \n",
    "    prompt = f\"\"\"\n",
    "You are an expert news analyst.\n",
    "Determine if the following article is \"Sensationalist\" or \"Not Sensationalist\".\n",
    "Sensationalist articles use exaggerated, emotional, or shocking language.\n",
    "\n",
    "Article:\n",
    "---\n",
    "{truncated}\n",
    "---\n",
    "\n",
    "Answer only with \"Sensationalist\" or \"Not Sensationalist\".\"\"\"\n",
    "    \n",
    "    response = openai.chat.completions.create(\n",
    "        model=\"gpt-3.5-turbo\",\n",
    "        messages=[{\"role\": \"user\", \"content\": prompt}],\n",
    "        temperature=0.0,\n",
    "        max_tokens=10\n",
    "    )\n",
    "\n",
    "    \n",
    "    return response.choices[0].message.content.strip()\n",
    "\n"
   ]
  },
  {
   "cell_type": "code",
   "execution_count": 138,
   "metadata": {},
   "outputs": [
    {
     "name": "stdout",
     "output_type": "stream",
     "text": [
      "Sensationalist\n"
     ]
    }
   ],
   "source": [
    "article = \"Breaking news! Massive fire destroys entire city block, leaving hundreds in tears!\"\n",
    "print(label_sensationalism(article))"
   ]
  },
  {
   "cell_type": "code",
   "execution_count": 139,
   "metadata": {},
   "outputs": [
    {
     "data": {
      "text/html": [
       "<div>\n",
       "<style scoped>\n",
       "    .dataframe tbody tr th:only-of-type {\n",
       "        vertical-align: middle;\n",
       "    }\n",
       "\n",
       "    .dataframe tbody tr th {\n",
       "        vertical-align: top;\n",
       "    }\n",
       "\n",
       "    .dataframe thead th {\n",
       "        text-align: right;\n",
       "    }\n",
       "</style>\n",
       "<table border=\"1\" class=\"dataframe\">\n",
       "  <thead>\n",
       "    <tr style=\"text-align: right;\">\n",
       "      <th></th>\n",
       "      <th>text</th>\n",
       "      <th>label</th>\n",
       "      <th>label_name</th>\n",
       "      <th>clean_text</th>\n",
       "      <th>sensationalism_label</th>\n",
       "    </tr>\n",
       "  </thead>\n",
       "  <tbody>\n",
       "    <tr>\n",
       "      <th>7606</th>\n",
       "      <td>Updated on: March 23, 2018 / 10:53 AM      / CBS News                                                           House passes $1.3T spending bill                                               House passes $1.3T spending bill      07:26                                      President Trump is threatening to veto the omnibus spending bill the Senate passed overnight — despite indicating support for it in the last two days — because he says it doesn't protect Dreamers or fully fund his border wall. The president's veto threat suddenly makes a government shutdown, which seemed to be a crisis averted early Friday morning, much more likely.   Government funding runs out at midnight. If he follows through, this would be Mr. Trump's first veto since taking office.   I am considering a VETO of the Omnibus Spending Bill based on the fact that the 800,000 plus DACA recipients have been totally abandoned by the Democrats (not even mentioned in Bill) and the BORDER WALL, which is desperately needed for our National Defense, is not fully funded.— Donald J. Trump (@realDonaldTrump) March 23, 2018  The White House insisted repeatedly Thursday that even though the legislation didn't fund Mr. Trum...</td>\n",
       "      <td>0</td>\n",
       "      <td>Left</td>\n",
       "      <td>updated on: / / cbs news house passes $1.3t spending bill house passes $1.3t spending bill 07:26 president trump is threatening to veto the omnibus spending bill the senate passed overnight — despite indicating support for it in the last two days — because he says it doesn't protect dreamers or fully fund his border wall. the president's veto threat suddenly makes a government shutdown, which seemed to be a crisis averted early friday morning, much more likely. government funding runs out at midnight. if he follows through, this would be mr. trump's first veto since taking office. i am considering a veto of the omnibus spending bill based on the fact that the 800,000 plus daca recipients have been totally abandoned by the democrats (not even mentioned in bill) and the border wall, which is desperately needed for our national defense, is not fully funded.— donald j. trump (@realdonaldtrump) the white house insisted repeatedly thursday that even though the legislation didn't fund mr. trump's border wall — the president has requested $25 billion and the legislation only provides about $1.6 billion — that the president still supported the bill. on thursday afternoon, office of mana...</td>\n",
       "      <td>Not Sensationalist</td>\n",
       "    </tr>\n",
       "    <tr>\n",
       "      <th>17147</th>\n",
       "      <td>The first State of the Union address of President Obama’s second term is shaping up as a conservative’s nightmare come true.                                                                                                                                                      In his speech to Congress on Tuesday night, Mr. Obama is certain to demand more tax revenue, part of his “balanced” approach to deficit reduction, even though he won a battle with Congress last month for a tax increase on wealthier households. He also will push for more spending to fund his job-creation proposals and education plans.                                                                                                                                                      The nationally televised address will begin at 9 p.m.                                                                                                                                                                    (SEE RELATED: Ted Nugent to be a guest at State of the Union address)                                                                                                                              “He will focus on the pro...</td>\n",
       "      <td>2</td>\n",
       "      <td>Right</td>\n",
       "      <td>the first state of the union address of president obama’s second term is shaping up as a conservative’s nightmare come true. in his speech to congress on tuesday night, mr. obama is certain to demand more tax revenue, part of his “balanced” approach to deficit reduction, even though he won a battle with congress last month for a tax increase on wealthier households. he also will push for more spending to fund his job-creation proposals and education plans. the nationally televised address will begin at 9 p.m. (see related: ted nugent to be a guest at state of the union address) “he will focus on the proposals that are necessary to help the middle class grow and help the economy grow,” white house press secretary jay carney said monday. “we need more investment that helps the key industries of the 21st century take root here in the united states. we are not done, not even close.” along with higher taxes and bigger government, mr. obama will renew his call for gun-control measures and immigration reform that includes a pathway to citizenship. many democrats expect the president to call attention again to climate change as part of his clean-energy agenda. as for republicans’ goals...</td>\n",
       "      <td>Not Sensationalist</td>\n",
       "    </tr>\n",
       "    <tr>\n",
       "      <th>14302</th>\n",
       "      <td>Marco Rubio tops Florida Senate rival Val Demings as Biden approval plummets: Poll                                         David M. Drucker                                                | February 16, 2022 06:00 AM                                                                            SEE IT: Reporter presses Hillary Clinton on 'spying' allegations                                         Daniel Chaitin                                                | February 15, 2022 10:48 PM                                                                            Typo on flier sends drivers in Florida to Trump 2024 merchandise website                                         Asher Notheis                                                | February 15, 2022 05:41 PM                                                                            Charlie Savage is the reason no one trusts journalists                                         Conn Carroll                                                | February 15, 2022 01:48 PM                                                                            Oz and McCormick wage battle for Trump endorsement in GOP Senate primary                         ...</td>\n",
       "      <td>2</td>\n",
       "      <td>Right</td>\n",
       "      <td>marco rubio tops florida senate rival val demings as biden approval plummets: poll david m. drucker | see it: reporter presses hillary clinton on 'spying' allegations daniel chaitin | typo on flier sends drivers in florida to trump 2024 merchandise website asher notheis | charlie savage is the reason no one trusts journalists conn carroll | oz and mccormick wage battle for trump endorsement in gop senate primary david m. drucker | sussmann wants durham filing about trump white house snooping stricken from record jerry dunleavy | no spying on trump? 35 times big media lied paul bedard | the frightening breadth and unaccountability of the deep state washington examiner | tech executive fires back at john durham daniel chaitin | trump organization's longtime accounting firm cuts ties asher notheis |</td>\n",
       "      <td>Sensationalist</td>\n",
       "    </tr>\n",
       "    <tr>\n",
       "      <th>10248</th>\n",
       "      <td>The new system opens up air travel to vaccinated foreign nationals from dozens of countries for the first time since the early days of the pandemic.Travelers walk through the departures hall in El Prat airport in Barcelona, Spain, on Aug. 2.Angel Garcia / Bloomberg via Getty Images fileSept. 20, 2021, 2:29 PM UTCWASHINGTON — The Biden administration will require all international travelers coming into the United States to be fully vaccinated and tested for Covid-19 under a new system that will open up air travel to vaccinated foreign nationals from dozens of countries for the first time since the early days of the pandemic.Starting in early November, foreign nationals will be allowed to fly into the U.S. if they are fully vaccinated and able to show proof of vaccination prior to boarding a U.S.-bound flight, White House Covid coordinator Jeffrey Zients said.The requirement will ease travel restrictions that limited entry into the U.S. in many cases for noncitizens who had recently been in 33 countries, including many European nations and the United Kingdom, regardless of vaccination status. But for travelers outside of those countries, the new system will put stricter requireme...</td>\n",
       "      <td>0</td>\n",
       "      <td>Left</td>\n",
       "      <td>the new system opens up air travel to vaccinated foreign nationals from dozens of countries for the first time since the early days of the pandemic.travelers walk through the departures hall in el prat airport in barcelona, spain, on aug. 2.angel garcia / bloomberg via getty images filesept. 20, 2021, utcwashington — the biden administration will require all international travelers coming into the united states to be fully vaccinated and tested for covid-19 under a new system that will open up air travel to vaccinated foreign nationals from dozens of countries for the first time since the early days of the pandemic.starting in early november, foreign nationals will be allowed to fly into the u.s. if they are fully vaccinated and able to show proof of vaccination prior to boarding a u.s.-bound flight, white house covid coordinator jeffrey zients said.the requirement will ease travel restrictions that limited entry into the u.s. in many cases for noncitizens who had recently been in 33 countries, including many european nations and the united kingdom, regardless of vaccination status. but for travelers outside of those countries, the new system will put stricter requirements in p...</td>\n",
       "      <td>Not Sensationalist</td>\n",
       "    </tr>\n",
       "    <tr>\n",
       "      <th>15592</th>\n",
       "      <td>WASHINGTON — A graphically violent parody video, shown at a meeting of President Trump’s supporters at his Miami resort, depicted a likeness of the president shooting and stabbing his opponents and members of the news media in a church, The New York Times reported Sunday.                                                                                                                                                      In the video, Trump’s critics and media members are portrayed as parishioners fleeing his gruesome rampage. The fake Trump strikes the late Sen. John McCain in the neck, hits and stabs TV personality Rosie O’Donnell in the face, lights Sen. Bernie Sanders’ head on fire and shoots or otherwise assaults people whose faces are replaced with news organization logos.                                                                                                                                                      The video was shown last week at an American Priority conference at Trump’s Doral Miami resort, the newspaper said. Trump was not there. Event organizer Alex Phillips told The Times the video was played as part of a “meme exhibit” and was not associated with o...</td>\n",
       "      <td>2</td>\n",
       "      <td>Right</td>\n",
       "      <td>washington — a graphically violent parody video, shown at a meeting of president trump’s supporters at his miami resort, depicted a likeness of the president shooting and stabbing his opponents and members of the news media in a church, the new york times reported sunday. in the video, trump’s critics and media members are portrayed as parishioners fleeing his gruesome rampage. the fake trump strikes the late sen. john mccain in the neck, hits and stabs tv personality rosie o’donnell in the face, lights sen. bernie sanders’ head on fire and shoots or otherwise assaults people whose faces are replaced with news organization logos. the video was shown last week at an american priority conference at trump’s doral miami resort, the newspaper said. trump was not there. event organizer alex phillips told the times the video was played as part of a “meme exhibit” and was not associated with or endorsed by the conference “in any official capacity.” “american priority rejects all political violence,” he said, and is looking into the matter. the video includes the logo for trump’s 2020 campaign but tim murtaugh, spokesman for the reelection organization, told the times the “video was not...</td>\n",
       "      <td>Sensationalist</td>\n",
       "    </tr>\n",
       "    <tr>\n",
       "      <th>...</th>\n",
       "      <td>...</td>\n",
       "      <td>...</td>\n",
       "      <td>...</td>\n",
       "      <td>...</td>\n",
       "      <td>...</td>\n",
       "    </tr>\n",
       "    <tr>\n",
       "      <th>8229</th>\n",
       "      <td>Thousands of demonstrators filled the streets of downtown Hong Kong on Sunday, defying social distancing protocols to protest Beijing’s announcement of a sweeping new national security law that could unravel many of the civil liberties residents enjoy in the semi-autonomous region of China.\\nPolice used water cannons, tear gas, and pepper spray to disperse protesters, and there were reports of protesters throwing objects like plastic bottles and umbrellas at the police. At least 120 people were arrested. The protest — the largest in the territory since the spread of coronavirus-caused lockdowns across China — reflects an intensification of longstanding tensions between pro-democracy protesters and the Chinese government at a critical political moment in the region. The demonstrations came as Beijing has announced plans to bring Hong Kong further under its control using a forthcoming national security law — one experts say could be used to quash dissent and end many liberties Hongkongers have that those living in mainland China do not, like freedom of the press. The ruling Communist Party has long endeavored to bring Hong Kong more fully under its control, and has signaled it wo...</td>\n",
       "      <td>0</td>\n",
       "      <td>Left</td>\n",
       "      <td>thousands of demonstrators filled the streets of downtown hong kong on sunday, defying social distancing protocols to protest beijing’s announcement of a sweeping new national security law that could unravel many of the civil liberties residents enjoy in the semi-autonomous region of china. police used water cannons, tear gas, and pepper spray to disperse protesters, and there were reports of protesters throwing objects like plastic bottles and umbrellas at the police. at least 120 people were arrested. the protest — the largest in the territory since the spread of coronavirus-caused lockdowns across china — reflects an intensification of longstanding tensions between pro-democracy protesters and the chinese government at a critical political moment in the region. the demonstrations came as beijing has announced plans to bring hong kong further under its control using a forthcoming national security law — one experts say could be used to quash dissent and end many liberties hongkongers have that those living in mainland china do not, like freedom of the press. the ruling communist party has long endeavored to bring hong kong more fully under its control, and has signaled it wou...</td>\n",
       "      <td>Not Sensationalist</td>\n",
       "    </tr>\n",
       "    <tr>\n",
       "      <th>6910</th>\n",
       "      <td>By Michael Holden and Stephen AddisonLONDON, Feb 26 (Reuters) - Investigators believe that the masked killer known as \"Jihadi John,\" who fronted Islamic State beheading videos, is a British man named Mohammed Emwazi, two U.S. government sources said on Thursday.In videos released by Islamic State (IS), the black-clad militant brandishing a knife and speaking with an English accent appears to have decapitated hostages including Americans, Britons and Syrians.He was born in Kuwait and comes from a prosperous family in London, where he grew up and graduated with a computer programming degree.Emwazi, who used the videos to threaten the West and taunt leaders such as President Barack Obama and British Prime Minister David Cameron, was believed to have traveled to Syria around 2012 and to have later joined IS.In each beheading video, he is dressed entirely in black, a balaclava covering all but his eyes and the bridge of his nose. He wears a holster under his left arm.Hostages gave him the name John as he and other IS Britons had been nicknamed the Beatles. Another was dubbed George.Two U.S. government sources told Reuters that John was believed by investigators to be Emwazi, a fluen...</td>\n",
       "      <td>0</td>\n",
       "      <td>Left</td>\n",
       "      <td>by michael holden and stephen addisonlondon, feb 26 (reuters) - investigators believe that the masked killer known as \"jihadi john,\" who fronted islamic state beheading videos, is a british man named mohammed emwazi, two u.s. government sources said on thursday.in videos released by islamic state (is), the black-clad militant brandishing a knife and speaking with an english accent appears to have decapitated hostages including americans, britons and syrians.he was born in kuwait and comes from a prosperous family in london, where he grew up and graduated with a computer programming degree.emwazi, who used the videos to threaten the west and taunt leaders such as president barack obama and british prime minister david cameron, was believed to have traveled to syria around 2012 and to have later joined is.in each beheading video, he is dressed entirely in black, a balaclava covering all but his eyes and the bridge of his nose. he wears a holster under his left arm.hostages gave him the name john as he and other is britons had been nicknamed the beatles. another was dubbed george.two u.s. government sources told reuters that john was believed by investigators to be emwazi, a fluen...</td>\n",
       "      <td>Not Sensationalist</td>\n",
       "    </tr>\n",
       "    <tr>\n",
       "      <th>5841</th>\n",
       "      <td>Washington (CNN)U.S. lawmakers and administration officials expressed skepticism Tuesday that Israel had access to information on the Iran nuclear talks that went beyond what the White House had already shared with Capitol Hill, following a report that the Israeli government had given them secret details.Members of Congress were both surprised by and dismissive of a Wall Street Journal story that the Israeli government spied on the U.S.-led negotiations and leaked information on the developing deal to legislators.More than a half-dozen lawmakers in both parties and chambers denied receiving such briefings from Israel.\"I'm not sure what the information was. But I'm baffled by it,\" Boehner told reporters on Capitol Hill on Tuesday. \"No information (was) revealed to me whatsoever\" on the talks.Senate Foreign Relations Committee Chairman Bob Corker, too, said he hadn't been privy to any leaks from Israeli officials and joked to CNN that he felt \"left out\" after he saw the WSJ report. Published late Monday, the article said that Israelis had eavesdropped on the confidential talks and leaked selective intelligence with the intent of rallying Democratic opposition to the developing ag...</td>\n",
       "      <td>0</td>\n",
       "      <td>Left</td>\n",
       "      <td>washington (cnn)u.s. lawmakers and administration officials expressed skepticism tuesday that israel had access to information on the iran nuclear talks that went beyond what the white house had already shared with capitol hill, following a report that the israeli government had given them secret details.members of congress were both surprised by and dismissive of a wall street journal story that the israeli government spied on the u.s.-led negotiations and leaked information on the developing deal to legislators.more than a half-dozen lawmakers in both parties and chambers denied receiving such briefings from israel.\"i'm not sure what the information was. but i'm baffled by it,\" boehner told reporters on capitol hill on tuesday. \"no information (was) revealed to me whatsoever\" on the talks.senate foreign relations committee chairman bob corker, too, said he hadn't been privy to any leaks from israeli officials and joked to cnn that he felt \"left out\" after he saw the wsj report. published late monday, the article said that israelis had eavesdropped on the confidential talks and leaked selective intelligence with the intent of rallying democratic opposition to the developing ag...</td>\n",
       "      <td>Not Sensationalist</td>\n",
       "    </tr>\n",
       "    <tr>\n",
       "      <th>5791</th>\n",
       "      <td>WASHINGTON — Former White House chief strategist Steve Bannon is expected to testify behind closed doors to the House Intelligence Committee on Tuesday as part of its investigation into Russian interference in the 2016 presidential election. Bannon, who left his job at the White House in August amid frequent clashes with other staff members, had a dramatic and public split with Trump earlier this month. The former Trump adviser, who had remained in touch with the president after leaving the White House, was quoted in a new tell-all book calling actions by Trump's eldest son, Donald Trump Jr., \"treasonous.\"In the book Fire and Fury, author Michael Wolff said Bannon was referring to Trump Jr.'s June 2016 meeting with a Russian lawyer to try to get \"dirt\" on Hillary Clinton.Trump responded to Bannon's quotes in the book with a scathing statement: \"Steve Bannon has nothing to do with me or my presidency. When he was fired, he not only lost his job, he lost his mind.\" Bannon later said he was referring to former campaign chairman Paul Manafort, not Trump Jr., when he criticized the Trump Tower meeting with the Russians.The Intelligence Committee asked Bannon in December — before the...</td>\n",
       "      <td>0</td>\n",
       "      <td>Left</td>\n",
       "      <td>washington — former white house chief strategist steve bannon is expected to testify behind closed doors to the house intelligence committee on tuesday as part of its investigation into russian interference in the 2016 presidential election. bannon, who left his job at the white house in august amid frequent clashes with other staff members, had a dramatic and public split with trump earlier this month. the former trump adviser, who had remained in touch with the president after leaving the white house, was quoted in a new tell-all book calling actions by trump's eldest son, donald trump jr., \"treasonous.\"in the book fire and fury, author michael wolff said bannon was referring to trump jr.'s june 2016 meeting with a russian lawyer to try to get \"dirt\" on hillary clinton.trump responded to bannon's quotes in the book with a scathing statement: \"steve bannon has nothing to do with me or my presidency. when he was fired, he not only lost his job, he lost his mind.\" bannon later said he was referring to former campaign chairman paul manafort, not trump jr., when he criticized the trump tower meeting with the russians.the intelligence committee asked bannon in december — before the...</td>\n",
       "      <td>Not Sensationalist</td>\n",
       "    </tr>\n",
       "    <tr>\n",
       "      <th>776</th>\n",
       "      <td>[The stream started at 9 a.m. ET. Please refresh the page if you do not see a player above.]Marie Yovanovitch, the former U.S. ambassador to Ukraine testifies Friday in the second round of public impeachment hearings before the House Intelligence Committee. She's the only witness appearing on Friday.She has said in a prior closed-door session that she was the victim of a smear campaign by President Donald Trump's personal lawyer Rudy Giuliani and that the president personally pressured the State Department to remove her from her role, according to a transcript of that hearing.She said the deputy secretary of State had told her in April after she was fired that \"the president had lost confidence in me,\" NBC News reported.\"He added that there had been a concerted campaign against me, and that the department had been under pressure from the president to remove me since the summer of 2018,\" Yovanovitch told lawmakers in her opening statement during the closed-door session last month.Yovanovitch, an Obama appointee, recalled that her firing came as Trump and his allies found her to be an impediment to their desire to have the Ukrainians open investigations into his political rivals....</td>\n",
       "      <td>1</td>\n",
       "      <td>Center</td>\n",
       "      <td>[the stream started at 9 a.m. et. please refresh the page if you do not see a player above.]marie yovanovitch, the former u.s. ambassador to ukraine testifies friday in the second round of public impeachment hearings before the house intelligence committee. she's the only witness appearing on friday.she has said in a prior closed-door session that she was the victim of a smear campaign by president donald trump's personal lawyer rudy giuliani and that the president personally pressured the state department to remove her from her role, according to a transcript of that hearing.she said the deputy secretary of state had told her in april after she was fired that \"the president had lost confidence in me,\" nbc news reported.\"he added that there had been a concerted campaign against me, and that the department had been under pressure from the president to remove me since the summer of 2018,\" yovanovitch told lawmakers in her opening statement during the closed-door session last month.yovanovitch, an obama appointee, recalled that her firing came as trump and his allies found her to be an impediment to their desire to have the ukrainians open investigations into his political rivals....</td>\n",
       "      <td>Not Sensationalist</td>\n",
       "    </tr>\n",
       "  </tbody>\n",
       "</table>\n",
       "<p>1736 rows × 5 columns</p>\n",
       "</div>"
      ],
      "text/plain": [
       "                                                                                                                                                                                                                                                                                                                                                                                                                                                                                                                                                                                                                                                                                                                                                                                                                                                                                                                                                                                                                                                                                                                                                                                                                                                  text  \\\n",
       "7606   Updated on: March 23, 2018 / 10:53 AM      / CBS News                                                           House passes $1.3T spending bill                                               House passes $1.3T spending bill      07:26                                      President Trump is threatening to veto the omnibus spending bill the Senate passed overnight — despite indicating support for it in the last two days — because he says it doesn't protect Dreamers or fully fund his border wall. The president's veto threat suddenly makes a government shutdown, which seemed to be a crisis averted early Friday morning, much more likely.   Government funding runs out at midnight. If he follows through, this would be Mr. Trump's first veto since taking office.   I am considering a VETO of the Omnibus Spending Bill based on the fact that the 800,000 plus DACA recipients have been totally abandoned by the Democrats (not even mentioned in Bill) and the BORDER WALL, which is desperately needed for our National Defense, is not fully funded.— Donald J. Trump (@realDonaldTrump) March 23, 2018  The White House insisted repeatedly Thursday that even though the legislation didn't fund Mr. Trum...   \n",
       "17147  The first State of the Union address of President Obama’s second term is shaping up as a conservative’s nightmare come true.                                                                                                                                                      In his speech to Congress on Tuesday night, Mr. Obama is certain to demand more tax revenue, part of his “balanced” approach to deficit reduction, even though he won a battle with Congress last month for a tax increase on wealthier households. He also will push for more spending to fund his job-creation proposals and education plans.                                                                                                                                                      The nationally televised address will begin at 9 p.m.                                                                                                                                                                    (SEE RELATED: Ted Nugent to be a guest at State of the Union address)                                                                                                                              “He will focus on the pro...   \n",
       "14302  Marco Rubio tops Florida Senate rival Val Demings as Biden approval plummets: Poll                                         David M. Drucker                                                | February 16, 2022 06:00 AM                                                                            SEE IT: Reporter presses Hillary Clinton on 'spying' allegations                                         Daniel Chaitin                                                | February 15, 2022 10:48 PM                                                                            Typo on flier sends drivers in Florida to Trump 2024 merchandise website                                         Asher Notheis                                                | February 15, 2022 05:41 PM                                                                            Charlie Savage is the reason no one trusts journalists                                         Conn Carroll                                                | February 15, 2022 01:48 PM                                                                            Oz and McCormick wage battle for Trump endorsement in GOP Senate primary                         ...   \n",
       "10248  The new system opens up air travel to vaccinated foreign nationals from dozens of countries for the first time since the early days of the pandemic.Travelers walk through the departures hall in El Prat airport in Barcelona, Spain, on Aug. 2.Angel Garcia / Bloomberg via Getty Images fileSept. 20, 2021, 2:29 PM UTCWASHINGTON — The Biden administration will require all international travelers coming into the United States to be fully vaccinated and tested for Covid-19 under a new system that will open up air travel to vaccinated foreign nationals from dozens of countries for the first time since the early days of the pandemic.Starting in early November, foreign nationals will be allowed to fly into the U.S. if they are fully vaccinated and able to show proof of vaccination prior to boarding a U.S.-bound flight, White House Covid coordinator Jeffrey Zients said.The requirement will ease travel restrictions that limited entry into the U.S. in many cases for noncitizens who had recently been in 33 countries, including many European nations and the United Kingdom, regardless of vaccination status. But for travelers outside of those countries, the new system will put stricter requireme...   \n",
       "15592  WASHINGTON — A graphically violent parody video, shown at a meeting of President Trump’s supporters at his Miami resort, depicted a likeness of the president shooting and stabbing his opponents and members of the news media in a church, The New York Times reported Sunday.                                                                                                                                                      In the video, Trump’s critics and media members are portrayed as parishioners fleeing his gruesome rampage. The fake Trump strikes the late Sen. John McCain in the neck, hits and stabs TV personality Rosie O’Donnell in the face, lights Sen. Bernie Sanders’ head on fire and shoots or otherwise assaults people whose faces are replaced with news organization logos.                                                                                                                                                      The video was shown last week at an American Priority conference at Trump’s Doral Miami resort, the newspaper said. Trump was not there. Event organizer Alex Phillips told The Times the video was played as part of a “meme exhibit” and was not associated with o...   \n",
       "...                                                                                                                                                                                                                                                                                                                                                                                                                                                                                                                                                                                                                                                                                                                                                                                                                                                                                                                                                                                                                                                                                                                                                                                                                                                ...   \n",
       "8229   Thousands of demonstrators filled the streets of downtown Hong Kong on Sunday, defying social distancing protocols to protest Beijing’s announcement of a sweeping new national security law that could unravel many of the civil liberties residents enjoy in the semi-autonomous region of China.\\nPolice used water cannons, tear gas, and pepper spray to disperse protesters, and there were reports of protesters throwing objects like plastic bottles and umbrellas at the police. At least 120 people were arrested. The protest — the largest in the territory since the spread of coronavirus-caused lockdowns across China — reflects an intensification of longstanding tensions between pro-democracy protesters and the Chinese government at a critical political moment in the region. The demonstrations came as Beijing has announced plans to bring Hong Kong further under its control using a forthcoming national security law — one experts say could be used to quash dissent and end many liberties Hongkongers have that those living in mainland China do not, like freedom of the press. The ruling Communist Party has long endeavored to bring Hong Kong more fully under its control, and has signaled it wo...   \n",
       "6910   By Michael Holden and Stephen AddisonLONDON, Feb 26 (Reuters) - Investigators believe that the masked killer known as \"Jihadi John,\" who fronted Islamic State beheading videos, is a British man named Mohammed Emwazi, two U.S. government sources said on Thursday.In videos released by Islamic State (IS), the black-clad militant brandishing a knife and speaking with an English accent appears to have decapitated hostages including Americans, Britons and Syrians.He was born in Kuwait and comes from a prosperous family in London, where he grew up and graduated with a computer programming degree.Emwazi, who used the videos to threaten the West and taunt leaders such as President Barack Obama and British Prime Minister David Cameron, was believed to have traveled to Syria around 2012 and to have later joined IS.In each beheading video, he is dressed entirely in black, a balaclava covering all but his eyes and the bridge of his nose. He wears a holster under his left arm.Hostages gave him the name John as he and other IS Britons had been nicknamed the Beatles. Another was dubbed George.Two U.S. government sources told Reuters that John was believed by investigators to be Emwazi, a fluen...   \n",
       "5841   Washington (CNN)U.S. lawmakers and administration officials expressed skepticism Tuesday that Israel had access to information on the Iran nuclear talks that went beyond what the White House had already shared with Capitol Hill, following a report that the Israeli government had given them secret details.Members of Congress were both surprised by and dismissive of a Wall Street Journal story that the Israeli government spied on the U.S.-led negotiations and leaked information on the developing deal to legislators.More than a half-dozen lawmakers in both parties and chambers denied receiving such briefings from Israel.\"I'm not sure what the information was. But I'm baffled by it,\" Boehner told reporters on Capitol Hill on Tuesday. \"No information (was) revealed to me whatsoever\" on the talks.Senate Foreign Relations Committee Chairman Bob Corker, too, said he hadn't been privy to any leaks from Israeli officials and joked to CNN that he felt \"left out\" after he saw the WSJ report. Published late Monday, the article said that Israelis had eavesdropped on the confidential talks and leaked selective intelligence with the intent of rallying Democratic opposition to the developing ag...   \n",
       "5791   WASHINGTON — Former White House chief strategist Steve Bannon is expected to testify behind closed doors to the House Intelligence Committee on Tuesday as part of its investigation into Russian interference in the 2016 presidential election. Bannon, who left his job at the White House in August amid frequent clashes with other staff members, had a dramatic and public split with Trump earlier this month. The former Trump adviser, who had remained in touch with the president after leaving the White House, was quoted in a new tell-all book calling actions by Trump's eldest son, Donald Trump Jr., \"treasonous.\"In the book Fire and Fury, author Michael Wolff said Bannon was referring to Trump Jr.'s June 2016 meeting with a Russian lawyer to try to get \"dirt\" on Hillary Clinton.Trump responded to Bannon's quotes in the book with a scathing statement: \"Steve Bannon has nothing to do with me or my presidency. When he was fired, he not only lost his job, he lost his mind.\" Bannon later said he was referring to former campaign chairman Paul Manafort, not Trump Jr., when he criticized the Trump Tower meeting with the Russians.The Intelligence Committee asked Bannon in December — before the...   \n",
       "776    [The stream started at 9 a.m. ET. Please refresh the page if you do not see a player above.]Marie Yovanovitch, the former U.S. ambassador to Ukraine testifies Friday in the second round of public impeachment hearings before the House Intelligence Committee. She's the only witness appearing on Friday.She has said in a prior closed-door session that she was the victim of a smear campaign by President Donald Trump's personal lawyer Rudy Giuliani and that the president personally pressured the State Department to remove her from her role, according to a transcript of that hearing.She said the deputy secretary of State had told her in April after she was fired that \"the president had lost confidence in me,\" NBC News reported.\"He added that there had been a concerted campaign against me, and that the department had been under pressure from the president to remove me since the summer of 2018,\" Yovanovitch told lawmakers in her opening statement during the closed-door session last month.Yovanovitch, an Obama appointee, recalled that her firing came as Trump and his allies found her to be an impediment to their desire to have the Ukrainians open investigations into his political rivals....   \n",
       "\n",
       "       label label_name  \\\n",
       "7606       0       Left   \n",
       "17147      2      Right   \n",
       "14302      2      Right   \n",
       "10248      0       Left   \n",
       "15592      2      Right   \n",
       "...      ...        ...   \n",
       "8229       0       Left   \n",
       "6910       0       Left   \n",
       "5841       0       Left   \n",
       "5791       0       Left   \n",
       "776        1     Center   \n",
       "\n",
       "                                                                                                                                                                                                                                                                                                                                                                                                                                                                                                                                                                                                                                                                                                                                                                                                                                                                                                                                                                                                                                                                                                                                                                                                                                            clean_text  \\\n",
       "7606   updated on: / / cbs news house passes $1.3t spending bill house passes $1.3t spending bill 07:26 president trump is threatening to veto the omnibus spending bill the senate passed overnight — despite indicating support for it in the last two days — because he says it doesn't protect dreamers or fully fund his border wall. the president's veto threat suddenly makes a government shutdown, which seemed to be a crisis averted early friday morning, much more likely. government funding runs out at midnight. if he follows through, this would be mr. trump's first veto since taking office. i am considering a veto of the omnibus spending bill based on the fact that the 800,000 plus daca recipients have been totally abandoned by the democrats (not even mentioned in bill) and the border wall, which is desperately needed for our national defense, is not fully funded.— donald j. trump (@realdonaldtrump) the white house insisted repeatedly thursday that even though the legislation didn't fund mr. trump's border wall — the president has requested $25 billion and the legislation only provides about $1.6 billion — that the president still supported the bill. on thursday afternoon, office of mana...   \n",
       "17147  the first state of the union address of president obama’s second term is shaping up as a conservative’s nightmare come true. in his speech to congress on tuesday night, mr. obama is certain to demand more tax revenue, part of his “balanced” approach to deficit reduction, even though he won a battle with congress last month for a tax increase on wealthier households. he also will push for more spending to fund his job-creation proposals and education plans. the nationally televised address will begin at 9 p.m. (see related: ted nugent to be a guest at state of the union address) “he will focus on the proposals that are necessary to help the middle class grow and help the economy grow,” white house press secretary jay carney said monday. “we need more investment that helps the key industries of the 21st century take root here in the united states. we are not done, not even close.” along with higher taxes and bigger government, mr. obama will renew his call for gun-control measures and immigration reform that includes a pathway to citizenship. many democrats expect the president to call attention again to climate change as part of his clean-energy agenda. as for republicans’ goals...   \n",
       "14302                                                                                                                                                                                                                                                                                                                                                                                                          marco rubio tops florida senate rival val demings as biden approval plummets: poll david m. drucker | see it: reporter presses hillary clinton on 'spying' allegations daniel chaitin | typo on flier sends drivers in florida to trump 2024 merchandise website asher notheis | charlie savage is the reason no one trusts journalists conn carroll | oz and mccormick wage battle for trump endorsement in gop senate primary david m. drucker | sussmann wants durham filing about trump white house snooping stricken from record jerry dunleavy | no spying on trump? 35 times big media lied paul bedard | the frightening breadth and unaccountability of the deep state washington examiner | tech executive fires back at john durham daniel chaitin | trump organization's longtime accounting firm cuts ties asher notheis |   \n",
       "10248  the new system opens up air travel to vaccinated foreign nationals from dozens of countries for the first time since the early days of the pandemic.travelers walk through the departures hall in el prat airport in barcelona, spain, on aug. 2.angel garcia / bloomberg via getty images filesept. 20, 2021, utcwashington — the biden administration will require all international travelers coming into the united states to be fully vaccinated and tested for covid-19 under a new system that will open up air travel to vaccinated foreign nationals from dozens of countries for the first time since the early days of the pandemic.starting in early november, foreign nationals will be allowed to fly into the u.s. if they are fully vaccinated and able to show proof of vaccination prior to boarding a u.s.-bound flight, white house covid coordinator jeffrey zients said.the requirement will ease travel restrictions that limited entry into the u.s. in many cases for noncitizens who had recently been in 33 countries, including many european nations and the united kingdom, regardless of vaccination status. but for travelers outside of those countries, the new system will put stricter requirements in p...   \n",
       "15592  washington — a graphically violent parody video, shown at a meeting of president trump’s supporters at his miami resort, depicted a likeness of the president shooting and stabbing his opponents and members of the news media in a church, the new york times reported sunday. in the video, trump’s critics and media members are portrayed as parishioners fleeing his gruesome rampage. the fake trump strikes the late sen. john mccain in the neck, hits and stabs tv personality rosie o’donnell in the face, lights sen. bernie sanders’ head on fire and shoots or otherwise assaults people whose faces are replaced with news organization logos. the video was shown last week at an american priority conference at trump’s doral miami resort, the newspaper said. trump was not there. event organizer alex phillips told the times the video was played as part of a “meme exhibit” and was not associated with or endorsed by the conference “in any official capacity.” “american priority rejects all political violence,” he said, and is looking into the matter. the video includes the logo for trump’s 2020 campaign but tim murtaugh, spokesman for the reelection organization, told the times the “video was not...   \n",
       "...                                                                                                                                                                                                                                                                                                                                                                                                                                                                                                                                                                                                                                                                                                                                                                                                                                                                                                                                                                                                                                                                                                                                                                                                                                                ...   \n",
       "8229   thousands of demonstrators filled the streets of downtown hong kong on sunday, defying social distancing protocols to protest beijing’s announcement of a sweeping new national security law that could unravel many of the civil liberties residents enjoy in the semi-autonomous region of china. police used water cannons, tear gas, and pepper spray to disperse protesters, and there were reports of protesters throwing objects like plastic bottles and umbrellas at the police. at least 120 people were arrested. the protest — the largest in the territory since the spread of coronavirus-caused lockdowns across china — reflects an intensification of longstanding tensions between pro-democracy protesters and the chinese government at a critical political moment in the region. the demonstrations came as beijing has announced plans to bring hong kong further under its control using a forthcoming national security law — one experts say could be used to quash dissent and end many liberties hongkongers have that those living in mainland china do not, like freedom of the press. the ruling communist party has long endeavored to bring hong kong more fully under its control, and has signaled it wou...   \n",
       "6910   by michael holden and stephen addisonlondon, feb 26 (reuters) - investigators believe that the masked killer known as \"jihadi john,\" who fronted islamic state beheading videos, is a british man named mohammed emwazi, two u.s. government sources said on thursday.in videos released by islamic state (is), the black-clad militant brandishing a knife and speaking with an english accent appears to have decapitated hostages including americans, britons and syrians.he was born in kuwait and comes from a prosperous family in london, where he grew up and graduated with a computer programming degree.emwazi, who used the videos to threaten the west and taunt leaders such as president barack obama and british prime minister david cameron, was believed to have traveled to syria around 2012 and to have later joined is.in each beheading video, he is dressed entirely in black, a balaclava covering all but his eyes and the bridge of his nose. he wears a holster under his left arm.hostages gave him the name john as he and other is britons had been nicknamed the beatles. another was dubbed george.two u.s. government sources told reuters that john was believed by investigators to be emwazi, a fluen...   \n",
       "5841   washington (cnn)u.s. lawmakers and administration officials expressed skepticism tuesday that israel had access to information on the iran nuclear talks that went beyond what the white house had already shared with capitol hill, following a report that the israeli government had given them secret details.members of congress were both surprised by and dismissive of a wall street journal story that the israeli government spied on the u.s.-led negotiations and leaked information on the developing deal to legislators.more than a half-dozen lawmakers in both parties and chambers denied receiving such briefings from israel.\"i'm not sure what the information was. but i'm baffled by it,\" boehner told reporters on capitol hill on tuesday. \"no information (was) revealed to me whatsoever\" on the talks.senate foreign relations committee chairman bob corker, too, said he hadn't been privy to any leaks from israeli officials and joked to cnn that he felt \"left out\" after he saw the wsj report. published late monday, the article said that israelis had eavesdropped on the confidential talks and leaked selective intelligence with the intent of rallying democratic opposition to the developing ag...   \n",
       "5791   washington — former white house chief strategist steve bannon is expected to testify behind closed doors to the house intelligence committee on tuesday as part of its investigation into russian interference in the 2016 presidential election. bannon, who left his job at the white house in august amid frequent clashes with other staff members, had a dramatic and public split with trump earlier this month. the former trump adviser, who had remained in touch with the president after leaving the white house, was quoted in a new tell-all book calling actions by trump's eldest son, donald trump jr., \"treasonous.\"in the book fire and fury, author michael wolff said bannon was referring to trump jr.'s june 2016 meeting with a russian lawyer to try to get \"dirt\" on hillary clinton.trump responded to bannon's quotes in the book with a scathing statement: \"steve bannon has nothing to do with me or my presidency. when he was fired, he not only lost his job, he lost his mind.\" bannon later said he was referring to former campaign chairman paul manafort, not trump jr., when he criticized the trump tower meeting with the russians.the intelligence committee asked bannon in december — before the...   \n",
       "776    [the stream started at 9 a.m. et. please refresh the page if you do not see a player above.]marie yovanovitch, the former u.s. ambassador to ukraine testifies friday in the second round of public impeachment hearings before the house intelligence committee. she's the only witness appearing on friday.she has said in a prior closed-door session that she was the victim of a smear campaign by president donald trump's personal lawyer rudy giuliani and that the president personally pressured the state department to remove her from her role, according to a transcript of that hearing.she said the deputy secretary of state had told her in april after she was fired that \"the president had lost confidence in me,\" nbc news reported.\"he added that there had been a concerted campaign against me, and that the department had been under pressure from the president to remove me since the summer of 2018,\" yovanovitch told lawmakers in her opening statement during the closed-door session last month.yovanovitch, an obama appointee, recalled that her firing came as trump and his allies found her to be an impediment to their desire to have the ukrainians open investigations into his political rivals....   \n",
       "\n",
       "      sensationalism_label  \n",
       "7606    Not Sensationalist  \n",
       "17147   Not Sensationalist  \n",
       "14302       Sensationalist  \n",
       "10248   Not Sensationalist  \n",
       "15592       Sensationalist  \n",
       "...                    ...  \n",
       "8229    Not Sensationalist  \n",
       "6910    Not Sensationalist  \n",
       "5841    Not Sensationalist  \n",
       "5791    Not Sensationalist  \n",
       "776     Not Sensationalist  \n",
       "\n",
       "[1736 rows x 5 columns]"
      ]
     },
     "execution_count": 139,
     "metadata": {},
     "output_type": "execute_result"
    }
   ],
   "source": [
    "# Apply the labeling function to each row in the DataFrame\n",
    "sample_df2['sensationalism_label'] = sample_df2['clean_text'].apply(label_sensationalism)\n",
    "\n",
    "# View the updated DataFrame\n",
    "sample_df2\n"
   ]
  },
  {
   "cell_type": "code",
   "execution_count": 140,
   "metadata": {},
   "outputs": [
    {
     "name": "stdout",
     "output_type": "stream",
     "text": [
      "Progress saved to projectfiles.pkl\n"
     ]
    }
   ],
   "source": [
    "import pickle\n",
    "\n",
    "# Specify what variables you want to save\n",
    "data_to_save = {}\n",
    "# Add your variables to the dictionary\n",
    "data_to_save['sample_df_reset'] = sample_df_reset\n",
    "data_to_save['df'] = df\n",
    "data_to_save['final_df'] = final_df\n",
    "data_to_save['pivoted_df'] = pivoted_df\n",
    "data_to_save['mean_sentiments'] = mean_sentiments\n",
    "data_to_save['sample_df2'] = sample_df2\n",
    "# Save to pickle file\n",
    "output_path = 'projectfiles.pkl'\n",
    "with open(output_path, 'wb') as f:\n",
    "    pickle.dump(data_to_save, f)\n",
    "\n",
    "print(f'Progress saved to {output_path}')"
   ]
  },
  {
   "cell_type": "code",
   "execution_count": 145,
   "metadata": {},
   "outputs": [
    {
     "data": {
      "text/plain": [
       "sensationalism_label\n",
       "Not Sensationalist    1552\n",
       "Sensationalist         184\n",
       "Name: count, dtype: int64"
      ]
     },
     "execution_count": 145,
     "metadata": {},
     "output_type": "execute_result"
    }
   ],
   "source": [
    "\n",
    "sample_df2.sensationalism_label.value_counts()"
   ]
  },
  {
   "cell_type": "code",
   "execution_count": null,
   "metadata": {},
   "outputs": [
    {
     "name": "stdout",
     "output_type": "stream",
     "text": [
      "sensationalism_label  Not Sensationalist  Sensationalist\n",
      "label_name                                              \n",
      "Center                          0.957500        0.042500\n",
      "Left                            0.920513        0.079487\n",
      "Right                           0.811151        0.188849\n"
     ]
    }
   ],
   "source": [
    "# Get counts \n",
    "counts = (\n",
    "    sample_df2\n",
    "    .groupby(['label_name', 'sensationalism_label'])\n",
    "    .size()\n",
    "    .unstack(fill_value=0)\n",
    ")\n",
    "\n",
    "# Divide by row sum to get proportions\n",
    "props = counts.div(counts.sum(axis=1), axis=0)\n",
    "\n",
    "print(props)\n",
    "\n"
   ]
  },
  {
   "cell_type": "code",
   "execution_count": 144,
   "metadata": {},
   "outputs": [
    {
     "data": {
      "image/png": "[encoded data removed]",
      "text/plain": [
       "<Figure size 640x480 with 1 Axes>"
      ]
     },
     "metadata": {},
     "output_type": "display_data"
    }
   ],
   "source": [
    "# 1. Compute the counts\n",
    "counts = sample_df2.groupby(\n",
    "    ['label_name', 'sensationalism_label']\n",
    ").size().unstack(fill_value=0)\n",
    "\n",
    "# 2. Calculate percentages\n",
    "percentages = counts.div(counts.sum(axis=1), axis=0) * 100\n",
    "\n",
    "# 3. Prepare data for plotting\n",
    "labels = percentages.index.tolist()\n",
    "sens_pct = percentages['Sensationalist'].tolist()\n",
    "not_sens_pct = percentages['Not Sensationalist'].tolist()\n",
    "x = range(len(labels))\n",
    "width = 0.35\n",
    "\n",
    "# 4. Create the bar chart\n",
    "fig, ax = plt.subplots()\n",
    "ax.bar([i - width/2 for i in x], sens_pct, width)\n",
    "ax.bar([i + width/2 for i in x], not_sens_pct, width)\n",
    "\n",
    "# 5. Formatting\n",
    "ax.set_xticks(x)\n",
    "ax.set_xticklabels(labels)\n",
    "ax.set_xlabel('Political Bias')\n",
    "ax.set_ylabel('Percentage of Articles (%)')\n",
    "ax.set_title('Sensationalism by Political Bias (Percentage)')\n",
    "ax.legend(['Sensationalist', 'Not Sensationalist'])\n",
    "plt.tight_layout()\n",
    "\n",
    "# 6. Show\n",
    "plt.show()\n"
   ]
  },
  {
   "cell_type": "markdown",
   "metadata": {},
   "source": [
    "### Conclusion: Sensationalism by Political Bias\n",
    "\n",
    "**Right-leaning articles are almost **4.5×** more likely to be sensationalistic than center-leaning ones**—with **18.9%** of right-leaning content labeled sensationalist versus just **4.25%** for center-leaning. This dramatic gap suggests that sensationalism is a key differentiator in how ideological perspectives engage and influence their audiences.\n",
    "\n",
    "The analysis of sensationalism across political leanings reveals notable differences in the proportion of sensationalistic content.\n",
    "\n",
    "#### Proportion of Sensationalist Articles:\n",
    "- **Center**: 4.25%\n",
    "- **Left**: 7.95%\n",
    "- **Right**: 18.88%\n",
    "\n",
    "#### Key Insights:\n",
    "- **Right-leaning articles** show a significantly higher proportion of sensationalistic content compared to Center and Left. Nearly **1 in 5** articles from right-leaning sources were labeled sensationalist.\n",
    "- **Center-leaning articles** have the **lowest incidence**, with over **95%** of content classified as non-sensational.\n",
    "- **Left-leaning articles** fall in between, showing a moderate level of sensationalism.\n",
    "\n",
    "This suggests that the degree of sensationalism in political reporting may correlate with ideological leaning, with **right-leaning media more likely to employ sensationalistic language or framing**.\n",
    "\n",
    "\n"
   ]
  },
  {
   "cell_type": "markdown",
   "metadata": {},
   "source": [
    "# Emotion Analysis using GPT-3.5 Turbo\n",
    "\n",
    "To cross-validate emotional tone classifications and compare with earlier model-based results, I performed another round of **emotion classification** using **OpenAI’s GPT-3.5 Turbo**.\n",
    "\n",
    "- **Sample Size and Token Limit**:  \n",
    "  A **10% sample** of articles was selected, with each input capped at **1024 tokens** to ensure compatibility with the model and maintain cost-efficiency.\n",
    "\n",
    "- **Prompting Strategy**:  \n",
    "  I used a carefully crafted prompt to extract scores for the same six emotions as before:  \n",
    "  **sadness, joy, love, anger, fear, and surprise**, ensuring direct comparability with the `distilbert-base-uncased-emotion` model.\n",
    "\n",
    "- **Model Parameters**:  \n",
    "  The **temperature was set to 0.0** to maintain deterministic outputs and ensure consistent scoring.\n",
    "\n",
    "- **Post-Processing**:  \n",
    "  Emotion scores were extracted from the model responses for each text.  \n",
    "  These were then **grouped by political leaning**, and the **mean score for each emotion** was calculated to observe patterns across ideological categories.\n",
    "\n",
    "This approach provided an interpretable, LLM-generated emotional profile of articles, useful for comparison against traditional emotion classification models.\n",
    " "
   ]
  },
  {
   "cell_type": "code",
   "execution_count": 148,
   "metadata": {},
   "outputs": [],
   "source": [
    "def score_emotions(text):\n",
    "    # first, ensure we don't exceed token limit\n",
    "    truncated = truncate_text_to_tokens(text, max_tokens=1024)\n",
    "    prompt = f\"\"\"\n",
    "You are an expert in affective computing and emotion analysis.\n",
    "\n",
    "Given the article below, score the intensity of each emotion on a scale of 0 to 1.\n",
    "Emotions: anger, fear, joy, love, sadness, surprise\n",
    "\n",
    "Text:\n",
    "\\\"\\\"\\\"{truncated}\\\"\\\"\\\"\n",
    "\n",
    "Respond only in JSON format like:\n",
    "{{\"anger\": 0.2, \"fear\": 0.5, \"joy\": 0.1, \"love\": 0.0, \"sadness\": 0.7, \"surprise\": 0.4}}\n",
    "\"\"\"\n",
    "\n",
    "    try:\n",
    "        response = openai.chat.completions.create(\n",
    "            model=\"gpt-3.5-turbo\",\n",
    "            messages=[{\"role\": \"user\", \"content\": prompt}],\n",
    "            temperature=0.0,\n",
    "            max_tokens=100,\n",
    "        )\n",
    "\n",
    "        content = response.choices[0].message.content.strip()\n",
    "        scores = eval(content)  # Caution: If unsure, use json.loads()\n",
    "        return scores\n",
    "\n",
    "    except Exception as e:\n",
    "        print(\"Error:\", e)\n",
    "        return {\"anger\": None, \"fear\": None, \"joy\": None, \"love\": None, \"sadness\": None, \"surprise\": None}\n"
   ]
  },
  {
   "cell_type": "code",
   "execution_count": 149,
   "metadata": {},
   "outputs": [],
   "source": [
    "# Apply and expand emotion scores into separate columns\n",
    "emotion_scores_df = sample_df2['clean_text'].apply(score_emotions).apply(pd.Series)\n"
   ]
  },
  {
   "cell_type": "code",
   "execution_count": 151,
   "metadata": {},
   "outputs": [
    {
     "name": "stdout",
     "output_type": "stream",
     "text": [
      "   emotion label_name     anger      fear       joy      love   sadness  \\\n",
      "0        0     Center  0.325500  0.443750  0.098500  0.015250  0.684750   \n",
      "1        1       Left  0.352051  0.424231  0.096923  0.016026  0.698333   \n",
      "2        2      Right  0.385971  0.414568  0.089029  0.012590  0.698201   \n",
      "\n",
      "   surprise  \n",
      "0  0.303500  \n",
      "1  0.314487  \n",
      "2  0.307734  \n"
     ]
    }
   ],
   "source": [
    "# Group by label_name and calculate average of emotion scores\n",
    "grouped_emotions = sample_df2.groupby(\"label_name\")[['anger', 'fear', 'joy', 'love', 'sadness', 'surprise']].mean().reset_index()\n",
    "\n",
    "# Optional: Add a placeholder 'emotion' column to match your desired format\n",
    "grouped_emotions.insert(0, 'emotion', range(len(grouped_emotions)))\n",
    "\n",
    "# Show final DataFrame\n",
    "print(grouped_emotions)\n"
   ]
  },
  {
   "cell_type": "code",
   "execution_count": 153,
   "metadata": {},
   "outputs": [
    {
     "data": {
      "text/html": [
       "<div>\n",
       "<style scoped>\n",
       "    .dataframe tbody tr th:only-of-type {\n",
       "        vertical-align: middle;\n",
       "    }\n",
       "\n",
       "    .dataframe tbody tr th {\n",
       "        vertical-align: top;\n",
       "    }\n",
       "\n",
       "    .dataframe thead th {\n",
       "        text-align: right;\n",
       "    }\n",
       "</style>\n",
       "<table border=\"1\" class=\"dataframe\">\n",
       "  <thead>\n",
       "    <tr style=\"text-align: right;\">\n",
       "      <th></th>\n",
       "      <th>emotion</th>\n",
       "      <th>label_name</th>\n",
       "      <th>anger</th>\n",
       "      <th>fear</th>\n",
       "      <th>joy</th>\n",
       "      <th>love</th>\n",
       "      <th>sadness</th>\n",
       "      <th>surprise</th>\n",
       "    </tr>\n",
       "  </thead>\n",
       "  <tbody>\n",
       "    <tr>\n",
       "      <th>0</th>\n",
       "      <td>0</td>\n",
       "      <td>Center</td>\n",
       "      <td>0.325500</td>\n",
       "      <td>0.443750</td>\n",
       "      <td>0.098500</td>\n",
       "      <td>0.015250</td>\n",
       "      <td>0.684750</td>\n",
       "      <td>0.303500</td>\n",
       "    </tr>\n",
       "    <tr>\n",
       "      <th>1</th>\n",
       "      <td>1</td>\n",
       "      <td>Left</td>\n",
       "      <td>0.352051</td>\n",
       "      <td>0.424231</td>\n",
       "      <td>0.096923</td>\n",
       "      <td>0.016026</td>\n",
       "      <td>0.698333</td>\n",
       "      <td>0.314487</td>\n",
       "    </tr>\n",
       "    <tr>\n",
       "      <th>2</th>\n",
       "      <td>2</td>\n",
       "      <td>Right</td>\n",
       "      <td>0.385971</td>\n",
       "      <td>0.414568</td>\n",
       "      <td>0.089029</td>\n",
       "      <td>0.012590</td>\n",
       "      <td>0.698201</td>\n",
       "      <td>0.307734</td>\n",
       "    </tr>\n",
       "  </tbody>\n",
       "</table>\n",
       "</div>"
      ],
      "text/plain": [
       "   emotion label_name     anger      fear       joy      love   sadness  \\\n",
       "0        0     Center  0.325500  0.443750  0.098500  0.015250  0.684750   \n",
       "1        1       Left  0.352051  0.424231  0.096923  0.016026  0.698333   \n",
       "2        2      Right  0.385971  0.414568  0.089029  0.012590  0.698201   \n",
       "\n",
       "   surprise  \n",
       "0  0.303500  \n",
       "1  0.314487  \n",
       "2  0.307734  "
      ]
     },
     "execution_count": 153,
     "metadata": {},
     "output_type": "execute_result"
    }
   ],
   "source": [
    "grouped_emotions"
   ]
  },
  {
   "cell_type": "code",
   "execution_count": 152,
   "metadata": {},
   "outputs": [
    {
     "data": {
      "image/png": "[encoded data removed]",
      "text/plain": [
       "<Figure size 1000x500 with 1 Axes>"
      ]
     },
     "metadata": {},
     "output_type": "display_data"
    }
   ],
   "source": [
    "# Transpose the DataFrame for better grouped barplot visualization\n",
    "grouped_emotions_plot = grouped_emotions.set_index('label_name').T.drop('emotion')\n",
    "\n",
    "# Plot\n",
    "grouped_emotions_plot.plot(kind='bar', figsize=(10, 5))\n",
    "plt.title(\"Average Emotion Scores by Political Bias\")\n",
    "plt.ylabel(\"Average Score\")\n",
    "plt.ylim(0, 1)\n",
    "plt.legend(title='Political Bias')\n",
    "plt.tight_layout()\n",
    "plt.show()\n"
   ]
  },
  {
   "cell_type": "markdown",
   "metadata": {},
   "source": [
    "### Conclusion: Emotion Analysis using GPT-3.5 Turbo\n",
    "\n",
    "The emotion classification results show consistent patterns across political leanings, with subtle yet meaningful differences in emotional tone.\n",
    "\n",
    "#### Key Insights:\n",
    "- **Anger and Sadness** are highest in **right-leaning** articles, continuing the trend seen in model-based classification.\n",
    "- **Fear** is slightly more dominant in **center-leaning** articles.\n",
    "- **Joy and Love** scores remain low across the board, but are marginally higher in center and left-leaning texts.\n",
    "- **Surprise** levels are fairly balanced, with a slight edge in **left-leaning** content.\n",
    "\n",
    "These results suggest that **negative emotions (anger, fear, sadness)** dominate across all political segments, but are most pronounced in **right-leaning** content. This emotional landscape mirrors the sentiment and sensationalism findings, reinforcing the emotional framing tendencies across the political spectrum.\n"
   ]
  },
  {
   "cell_type": "markdown",
   "metadata": {},
   "source": [
    "## Comparative Analysis: DistilBERT vs GPT-3.5 Turbo Emotion Classification\n",
    "\n",
    "To better understand how different models interpret emotional tone across political biases, I compared the average emotion scores from two methods:\n",
    "\n",
    "- **DistilBERT-based model** (`distilbert-base-uncased-emotion`)\n",
    "- **GPT-3.5 Turbo** (with structured prompting and deterministic output)\n",
    "\n",
    "#### Comparison Table: Mean Emotion Scores by Political Bias\n",
    "\n",
    "| Emotion   | Model        | Center | Left   | Right  |\n",
    "|-----------|--------------|--------|--------|--------|\n",
    "| **Anger**     | DistilBERT     | **0.555**  | **0.562**  | **0.553**  |\n",
    "|               | GPT-3.5 Turbo  | 0.326  | 0.352  | **0.386**  |\n",
    "| **Fear**      | DistilBERT     | 0.134  | 0.129  | 0.133  |\n",
    "|               | GPT-3.5 Turbo  | **0.444**  | 0.424  | 0.415  |\n",
    "| **Joy**       | DistilBERT     | **0.215**  | **0.211**  | **0.223**  |\n",
    "|               | GPT-3.5 Turbo  | 0.099  | 0.097  | 0.089  |\n",
    "| **Love**      | DistilBERT     | 0.0062 | 0.0072 | 0.0060 |\n",
    "|               | GPT-3.5 Turbo  | **0.0153** | **0.0160** | 0.0126 |\n",
    "| **Sadness**   | DistilBERT     | 0.087  | 0.085  | 0.082  |\n",
    "|               | GPT-3.5 Turbo  | **0.685**  | **0.698**  | **0.698**  |\n",
    "| **Surprise**  | DistilBERT     | 0.0021 | 0.0054 | 0.0030 |\n",
    "|               | GPT-3.5 Turbo  | **0.304**  | **0.314**  | **0.308**  |\n",
    "\n",
    "---\n",
    "\n",
    "#### Key Insights:\n",
    "\n",
    "- **DistilBERT** generally outputs **lower scores** for emotions across the board, suggesting a more conservative intensity scale.\n",
    "- **GPT-3.5 Turbo** scores **negative emotions (fear, sadness, anger)** much higher, indicating it interprets content as more emotionally charged.\n",
    "- **Joy** and **Love** are consistently low in both models, but **GPT assigns even lower joy**, especially to **right-leaning** content.\n",
    "- **Surprise** sees a drastic divergence: GPT scores it significantly higher across all groups, while DistilBERT barely detects it.\n",
    "\n",
    "#### Interpretability Implications:\n",
    "- The **GPT-based approach** may capture **contextual emotional nuance** better due to its generative nature and broader world knowledge.\n",
    "- The **DistilBERT-based method** is more **statistical and token-sensitive**, resulting in lower, flatter emotion scores.\n",
    "\n",
    "Overall, while both models agree on the **emotional valence** (e.g., more anger and sadness in right-leaning articles), GPT suggests a **more emotionally intense media landscape**.\n"
   ]
  },
  {
   "cell_type": "code",
   "execution_count": 172,
   "metadata": {},
   "outputs": [
    {
     "name": "stdout",
     "output_type": "stream",
     "text": [
      "Progress saved to projectfiles.pkl\n"
     ]
    }
   ],
   "source": [
    "\n",
    "# Specify what variables you want to save\n",
    "data_to_save = {}\n",
    "# Add your variables to the dictionary\n",
    "data_to_save['sample_df_reset'] = sample_df_reset\n",
    "data_to_save['df'] = df\n",
    "data_to_save['final_df'] = final_df\n",
    "data_to_save['pivoted_df'] = pivoted_df\n",
    "data_to_save['mean_sentiments'] = mean_sentiments\n",
    "data_to_save['sample_df2'] = sample_df2\n",
    "data_to_save['grouped_emotions']= grouped_emotions\n",
    "# Save to pickle file\n",
    "output_path = 'projectfiles.pkl'\n",
    "with open(output_path, 'wb') as f:\n",
    "    pickle.dump(data_to_save, f)\n",
    "\n",
    "print(f'Progress saved to {output_path}')"
   ]
  },
  {
   "cell_type": "markdown",
   "metadata": {},
   "source": [
    "# Article Generation in Different Political Styles\n",
    "\n",
    "To explore political framing and narrative transformation, I used **GPT-3.5 Turbo** to generate **left-leaning versions of right-leaning articles**.\n",
    "\n",
    "#### Methodology:\n",
    "- **Model Used**: GPT-3.5 Turbo\n",
    "- **Input**: Right-leaning news articles\n",
    "- **Prompt Objective**: Generate a rewritten version of the article that reflects a **left-leaning perspective**, while retaining factual consistency.\n",
    "- **Token Limit**: Set to **1024 tokens** to manage response length and maintain focus.\n",
    "\n",
    "#### Evaluation:\n",
    "To assess the quality and impact of the generated articles, I conducted a **comparative evaluation** using both automated and manual methods:\n",
    "\n",
    "1. **Sentiment Analysis**  \n",
    "   - **Model Used**: `twitter-roberta-base-sentiment`  \n",
    "   - Purpose: To quantify and compare the **emotional tone** of the original and generated articles.\n",
    "\n",
    "2. **Semantic Similarity**  \n",
    "   - **Model Used**: `sentence-transformers/gtr-t5-base`  \n",
    "   - Purpose: To evaluate how **semantically close** the generated article is to the original, ensuring factual alignment despite stylistic shift.\n",
    "\n",
    "3. **Manual Review**  \n",
    "   - Conducted a close reading of both articles to assess:\n",
    "     - Factual consistency\n",
    "     - Narrative tone and framing\n",
    "     - Stylistic elements and persuasive techniques\n",
    "\n",
    "This experiment provides a structured way to analyze how political bias can be reframed and how content sentiment and semantic structure are preserved or altered across ideological boundaries.\n",
    "\n",
    "\n"
   ]
  },
  {
   "cell_type": "code",
   "execution_count": 178,
   "metadata": {},
   "outputs": [],
   "source": [
    "right_articles = sample_df_reset[sample_df_reset['label_name'] == 'Right']['clean_text']\n"
   ]
  },
  {
   "cell_type": "code",
   "execution_count": 194,
   "metadata": {},
   "outputs": [],
   "source": [
    "def generate_left_version(right_text):\n",
    "    system_prompt = (\n",
    "        \"You are a political speech editor. You will rewrite news articles to reflect a progressive (left-leaning) bias, \"\n",
    "        \"emphasizing values such as social justice, government responsibility, environmental protection, and income equality. \"\n",
    "        \"Preserve factual accuracy but shift the framing, tone, and emphasis to align with a left-leaning perspective.\"\n",
    "    )\n",
    "\n",
    "    response = openai.chat.completions.create(\n",
    "        model=\"gpt-3.5-turbo\",\n",
    "        max_tokens=1024,\n",
    "        messages=[\n",
    "            {\"role\": \"system\", \"content\": system_prompt},\n",
    "            {\"role\": \"user\", \"content\": right_text}\n",
    "        ]\n",
    "    )\n",
    "\n",
    "    return response.choices[0].message.content\n"
   ]
  },
  {
   "cell_type": "code",
   "execution_count": 181,
   "metadata": {},
   "outputs": [
    {
     "data": {
      "text/plain": [
       "0     the centers for disease control and prevention (cdc) released a report friday detailing a recent covid-19 outbreak in provincetown, massachusetts, which was cited by the agency as a contributing factor to its recent change in mask guidance.over the july 4 weekend, gatherings in provincetown contributed to at least 900 cases, and roughly 75% of those who tested positive in the cluster were vaccinated. the provincetown report concludes that spread among highly-vaccinated populations does occur and suggests that authorities reimplement mask mandates and other mitigation measures, even for the vaccinated. the provincetown report was a major warning sign for cdc officials, who earlier this week reversed course and once again recommended that vaccinated americans wear face coverings in some indoor settings. a leaked internal document from the cdc included preliminary data from the provincetown outbreak in its summary of information on breakthrough cases of the delta variant. the vaccines are working. of the 900 cases related to the provincetown cluster, there have been no deaths, 7 hospitalizations, and the symptoms are largely mild. our positivity peaked at 15% and was only 4.8% yes...\n",
       "1     the attorney for the former port authority official at the center of the george washington bridge scandal said there is evidence showing that new jersey gov. chris christie was aware of the lane closures when they happened. alan l. zegas, who is representing david wildstein, the official who ordered the lane closures and resigned as a result last year, said in a letter to the legal counsel for the port authority that there is evidence “tying mr. christie to having knowledge of the lane closures, during the period when the lanes were closed, contrary to what the governor stated publicly.” “mr. wildstein contests the accuracy of various statements that the governor made about him and he can prove the inaccuracy of some,” said the attorney, alan l. zegas. the new allegations surfaced as part of an ongoing spat over whether the port authority should cover the legal expenses of mr. wildstein, and raise new questions about what mr. christie knew about the mid-september lane closures on the george washington bridge. emails seemed to indicate the traffic jams were orchestrated by members of mr. christie’s inner circle and his allies at the port authority, including mr. wildstein, and w...\n",
       "5     hunter biden, the much-discussed son of democratic frontrunner and former vice president joe biden, is the father of a baby born in arkansas in august of 2018, according to court filings. for months, biden denied that he fathered the child; however, the mother has stated that hunter “verbally admitted” to her in private that he was the father of the child. the motion, filed earlier today in independence county circuit court, declares with “scientific certainty” that hunter, 49, is the father of a child born to 28-year-old lunden alexis roberts. according to local reports, public records indicate that a woman by that name lives in batesville, arkansas. according to the washington examiner: roberts attended college at western illinois university, playing for the college’s basketball team before transferring to arkansas state university, where she graduated in 2014 with a degree in interdisciplinary studies. she was living in washington, d.c., and virginia from 2015 to 2018, according to pubic records, which would have been the time when the child was conceived. according to the motion, it is not anticipated that hunter will challenge the results of the paternity test, which was c...\n",
       "9     plenty of people, like \"morning joe\" co-host mika brzezinski, are \"cringing\" over texas democratic gubernatorial candidate wendy davis' ad that focuses on gop challenger greg abbott and the accident that left him in a wheelchair, but she says she is not pulling the spot down. the 30-second spot, called \"justice,\" was released on friday and notes that abbott received millions of dollars in a lawsuit after he was injured back in 1984, but accuses him of not siding with victims like himself during his time in the state supreme court or as the texas attorney general. brzezinski, while discussing the ad monday morning on the msnbc program, said that she objects to \"everything from the production of it to the looming voice to the accused…yikes, i cringed watching that.\" further, she said that davis is going against her \"brand\" by running such an ad. \"this is not her, what her brand is turning out to be,\" said brzezinski. \"she should be appealing to women and she should be inspiring them and having a positive message.\" story continues below video. davis, though, says she backs the ad, and that abbott has tried to block cases that are similar to his own. \"he rightfully had an opportuni...\n",
       "12    democrats indicated sunday that the decision by attorney general jeff sessions to testify to congress on russian involvement in the november presidential election isn’t good enough — they want tuesday’s testimony to be public. mr. sessions announced his intention to go before the senate select committee on intelligence to address questions raised last week during former fbi director james b. comey’s testimony about the attorney general’s recusal from the russia probe. the attorney general had been scheduled to testify tuesday about the justice department’s budget before the house and senate appropriations committees but decided instead to go before the intelligence committee. “in light of reports regarding mr. comey’s recent testimony before the senate select committee on intelligence, it is important that i have an opportunity to address these matters in the appropriate forum,” mr. sessions wrote to lawmakers. it was unclear whether he intended his intelligence committee testimony to be public or behind closed doors, but democrats made their preference clear sunday and on the weekend political talk shows. on sunday, sen. ron wyden, oregon democrat and an intelligence committee...\n",
       "Name: clean_text, dtype: object"
      ]
     },
     "execution_count": 181,
     "metadata": {},
     "output_type": "execute_result"
    }
   ],
   "source": [
    "right_articles.head()"
   ]
  },
  {
   "cell_type": "code",
   "execution_count": 202,
   "metadata": {},
   "outputs": [
    {
     "name": "stdout",
     "output_type": "stream",
     "text": [
      "Original Right-Leaning Article:\n",
      " the centers for disease control and prevention (cdc) released a report friday detailing a recent covid-19 outbreak in provincetown, massachusetts, which was cited by the agency as a contributing factor to its recent change in mask guidance.over the july 4 weekend, gatherings in provincetown contributed to at least 900 cases, and roughly 75% of those who tested positive in the cluster were vaccinated. the provincetown report concludes that spread among highly-vaccinated populations does occur and suggests that authorities reimplement mask mandates and other mitigation measures, even for the vaccinated. the provincetown report was a major warning sign for cdc officials, who earlier this week reversed course and once again recommended that vaccinated americans wear face coverings in some indoor settings. a leaked internal document from the cdc included preliminary data from the provincetown outbreak in its summary of information on breakthrough cases of the delta variant. the vaccines are working. of the 900 cases related to the provincetown cluster, there have been no deaths, 7 hospitalizations, and the symptoms are largely mild. our positivity peaked at 15% and was only 4.8% yesterday. the outbreak is contained and provincetown is safe. — alex morse (@alexbmorse) cdc director rochelle walensky said the finding in massachusetts was “concerning and was a pivotal discovery leading to cdc’s updated mask recommendation” in a statement released friday. “high viral loads suggest an increased risk of transmission and raised concern that, unlike with other variants, vaccinated people infected with delta can transmit the virus.” despite the apparently substantial spread among vaccinated individuals that occurred in provincetown, the data clearly indicates that the vaccines work at preventing serious illness and death in nearly all cases. of the more than 900 cases tied to the cluster, only seven required hospitalization, and there have been zero reported deaths nearly a month after the spawn of the outbreak. (related: previously redacted email between peter daszak, anthony fauci suddenly sees light of day) but the high titers is what’s causing concern that even vaccinated can transmit delta, even if they don’t become noticeably ill because the vaccine is protecting them. also need to factor in that vaccinated adults may be less cautious, so more likely to come in contact with virus — scott gottlieb, md (@scottgottliebmd) the report suggests that the viral load carried by vaccinated individuals may be similar to that of unvaccinated individuals, but that does not necessarily mean they are just as contagious or will suffer the same severity of symptoms, according to former food and drug administration commissioner scott gottlieb. officials examined data from provincetown between july 3 and july 17. despite issuing the new mask guidance on tuesday the agency did not release the provincetown report until friday. the public had no access to key data driving the masking decision until an internal cdc presentation was leaked to the washington post late on the night of july 29. “this outbreak investigation is one of many cdc has been involved in across the country and data from those investigations will be rapidly shared with the public when available. the agency works every day to use the best available science and data to quickly and transparently inform the american public about threats to health,” walensky added friday.\n",
      "\n",
      "Generated Left-Leaning Article:\n",
      " The Centers for Disease Control and Prevention (CDC) recently published a report highlighting a COVID-19 outbreak in Provincetown, Massachusetts, which played a significant role in the agency's decision to update its mask guidance. The outbreak, stemming from gatherings over the July 4 weekend, led to around 900 cases, with approximately 75% of those infected being vaccinated individuals.\n",
      "\n",
      "This incident underscored the reality that transmission can occur even among highly vaccinated populations, prompting a call for reinstating mask mandates and other protective measures, irrespective of vaccination status. The Provincetown report served as a critical wakeup call for CDC officials, who swiftly responded by recommending that vaccinated individuals wear masks in certain indoor settings.\n",
      "\n",
      "CDC Director Rochelle Walensky emphasized the importance of the findings from Massachusetts, pointing to the concerning levels of viral load associated with the Delta variant and the potential for vaccinated individuals to transmit the virus. While the outbreak in Provincetown raised valid concerns about breakthrough cases, it is crucial to recognize that the vaccines have proven highly effective in preventing severe illness and fatalities.\n",
      "\n",
      "Despite the outbreak's reach among vaccinated individuals, the data unequivocally demonstrates the vaccines' ability to avert serious health complications. Out of the 900 cases linked to the cluster, only seven required hospitalization, and there have been zero reported deaths nearly a month following the initial outbreak.\n",
      "\n",
      "Former FDA Commissioner Scott Gottlieb highlighted that although vaccinated individuals may carry a similar viral load as unvaccinated counterparts, it does not necessarily equate to equal contagiousness or severity of symptoms. The report from Provincetown, analyzed between July 3 and July 17, affirmed the CDC's decision to update its mask guidance.\n",
      "\n",
      "However, the delayed release of the Provincetown report to the public has raised transparency concerns, with critical data only becoming available after a leaked internal CDC presentation was disclosed to the media. Moving forward, it is imperative for the CDC to prioritize prompt and transparent communication to effectively address public health threats, as emphasized by Director Walensky.\n",
      "\n",
      "The proactive approach to utilizing science-driven data to inform public health decisions underscores the agency’s commitment to safeguarding the well-being of all Americans amidst evolving COVID-19 challenges.\n"
     ]
    }
   ],
   "source": [
    "\n",
    "right_article = right_articles.iloc[0]\n",
    "left_article = generate_left_version(right_article)\n",
    "# Display the result\n",
    "print(\"Original Right-Leaning Article:\\n\", right_article)\n",
    "print(\"\\nGenerated Left-Leaning Article:\\n\", left_article)"
   ]
  },
  {
   "cell_type": "markdown",
   "metadata": {},
   "source": [
    "Examining using sentiment and similiarity scores. "
   ]
  },
  {
   "cell_type": "code",
   "execution_count": 203,
   "metadata": {},
   "outputs": [
    {
     "name": "stdout",
     "output_type": "stream",
     "text": [
      "Right Article Sentiment Score: -0.653\n",
      "Left Article Sentiment Score: -0.557\n",
      "Cosine Similarity: 0.922\n"
     ]
    }
   ],
   "source": [
    "# --------- Sentiment Pipeline using Hugging Face ---------\n",
    "sentiment_pipeline = pipeline(\"sentiment-analysis\", model=\"cardiffnlp/twitter-roberta-base-sentiment\")\n",
    "\n",
    "def get_sentiment(text):\n",
    "    result = sentiment_pipeline(text[:512])[0]  # Truncate to fit model\n",
    "    score = result['score'] if result['label'] == 'POSITIVE' else -result['score']\n",
    "    return score\n",
    "\n",
    "# --------- Semantic Similarity using Sentence-BERT ---------\n",
    "similarity_model = SentenceTransformer('sentence-transformers/gtr-t5-base')\n",
    "\n",
    "def compute_similarity(text1, text2):\n",
    "    embeddings = similarity_model.encode([text1, text2], convert_to_tensor=True)\n",
    "    similarity = util.pytorch_cos_sim(embeddings[0], embeddings[1]).item()\n",
    "    return similarity\n",
    "\n",
    "# --------- Example Usage ---------\n",
    "right_article = right_articles.iloc[0]\n",
    "left_article = generate_left_version(right_article)\n",
    "# Get sentiment scores\n",
    "right_sentiment = get_sentiment(right_article)\n",
    "left_sentiment = get_sentiment(left_article)\n",
    "\n",
    "# Get similarity\n",
    "similarity_score = compute_similarity(right_article, left_article)\n",
    "\n",
    "# --------- Results ---------\n",
    "print(f\"Right Article Sentiment Score: {right_sentiment:.3f}\")\n",
    "print(f\"Left Article Sentiment Score: {left_sentiment:.3f}\")\n",
    "print(f\"Cosine Similarity: {similarity_score:.3f}\")"
   ]
  },
  {
   "cell_type": "markdown",
   "metadata": {},
   "source": [
    "Checking another example "
   ]
  },
  {
   "cell_type": "code",
   "execution_count": 188,
   "metadata": {},
   "outputs": [
    {
     "name": "stdout",
     "output_type": "stream",
     "text": [
      "Right Article Sentiment Score: -0.624\n",
      "Left Article Sentiment Score: -0.552\n",
      "Cosine Similarity: 0.864\n"
     ]
    }
   ],
   "source": [
    "# --------- Sentiment Pipeline using Hugging Face ---------\n",
    "sentiment_pipeline = pipeline(\"sentiment-analysis\", model=\"cardiffnlp/twitter-roberta-base-sentiment\")\n",
    "\n",
    "def get_sentiment(text):\n",
    "    result = sentiment_pipeline(text[:512])[0]  # Truncate to fit model\n",
    "    score = result['score'] if result['label'] == 'POSITIVE' else -result['score']\n",
    "    return score\n",
    "\n",
    "# --------- Semantic Similarity using Sentence-BERT ---------\n",
    "similarity_model = SentenceTransformer('sentence-transformers/gtr-t5-base')\n",
    "\n",
    "def compute_similarity(text1, text2):\n",
    "    embeddings = similarity_model.encode([text1, text2], convert_to_tensor=True)\n",
    "    similarity = util.pytorch_cos_sim(embeddings[0], embeddings[1]).item()\n",
    "    return similarity\n",
    "\n",
    "# --------- Example Usage ---------\n",
    "right_article = right_articles.iloc[18]\n",
    "left_article = generate_left_version(right_article)\n",
    "# Get sentiment scores\n",
    "right_sentiment = get_sentiment(right_article)\n",
    "left_sentiment = get_sentiment(left_article)\n",
    "\n",
    "# Get similarity\n",
    "similarity_score = compute_similarity(right_article, left_article)\n",
    "\n",
    "# --------- Results ---------\n",
    "print(f\"Right Article Sentiment Score: {right_sentiment:.3f}\")\n",
    "print(f\"Left Article Sentiment Score: {left_sentiment:.3f}\")\n",
    "print(f\"Cosine Similarity: {similarity_score:.3f}\")"
   ]
  },
  {
   "cell_type": "code",
   "execution_count": 205,
   "metadata": {},
   "outputs": [
    {
     "name": "stdout",
     "output_type": "stream",
     "text": [
      "Original Right-Leaning Article:\n",
      " newyou can now listen to fox news articles! on the same day the giant christmas tree was to be lit outside the nbc studios at rockefeller center in new york city, the network dumped one of its biggest stars.matt lauer was axed on wednesday just hours after a secret meeting where his alleged victim and her lawyer told nbc brass her story of inappropriate sexual behavior from the long-time \"today show\" host. the alleged incident took place at the 2014 sochi olympics, the \"today\" show reported via its website.nbc news confirmed that the accusation also noted the alleged behavior continued in the workplace after the games.\"over the course of several hours, my client detailed egregious acts of sexual harassment and misconduct by mr. lauer,\" ari wilkenfeld of wilkenfeld, herendeen & atkinson told fox news in an emailed statement. \"in fewer than than 35 hours, nbc investigated and removed mr. lauer...it is our hope that nbc will continue to do what it can to repair the damage done to my client—their employee—and any other women who may come forward.\"garrison keilor dumped by mpr after sexual misconduct inquirylauer's co-anchor savannah guthrie and \"today\" colleague hoda kotb were given the rough task of breaking the news to viewers.\"this is a sad morning here at 'today' and at nbc news,\" guthrie said before reading a note from nbc news chairman andy lack.\"dear colleagues, on monday night, we received a detailed complaint from a colleague about inappropriate sexual behavior in the workplace by matt lauer,\" lack's statement read. \"it represented, after serious review, a clear violation of our company's standards. as a result, we've decided to terminate his employment.\"the statement said this is the first complaint regarding lauer's behavior the company has received \"in the over 20 years he's been at nbc news.\"\"i'm heartbroken for the brave colleague who came forward to tell her story and any other women who have their own stories to tell.\" — savannah guthrie\"we were also presented with reason to believe this may not have been an isolated incident,\" the statement said.matt lauer's firing from nbc unleashes twitter torrent pictured from l-r: savannah guthrie, matt lauer and hoda kotb on the \"today\" show monday, nov. 27, 2017. (nbc)lack said nbc's \"highest priority is to create a workplace environment where everyone feels safe and protected, and to ensure that any actions that run counter to our core values are met with consequences, no matter who the offender. we are deeply saddened by this turn of events.\"since the news broke, nbc has removed lauer's image from all of its social media properties including twitter, facebook and instagram. now, hosts guthrie, kotb, kathy lee gifford, carson daly, megyn kelly and al roker are more heavily featured.an emotional guthrie admitted \"we just learned this moments ago\" and said the \"today\" team is \"devastated and we are still processing all of this.\"katie couric: matt lauer pinched her 'on the ass a lot'\"all we can say is that we are heartbroken. i'm heartbroken for matt. he is my dear, dear friend and my partner and he is beloved by many, many people here. and i'm heartbroken for the brave colleague who came forward to tell her story and any other women who have their own stories to tell.\" matt lauer on the \"today\" show tuesday, nov. 21, 2017. (nbc)kotb said she and and guthrie \"were both woken up with the news, kind of predawn, and we're trying to process it and trying to make sense of it.\"guthrie said nbc will be \"covering this story as reporters\" and will share more details \"in the hours and days to come.\"lauer firing puts harsh new focus on nbc news boss andy lack after trump tweetthe \"today\" show anchors weren't the only ones reacting to the surprising development. president trump also chimed in on lauer's firing on twitter as the news broke.lauer, 59, had a $ contract that would have taken him into 2018. lauer's firing comes just days after \"cbs this morning\" host charlie rose was canned for his behavior towards women, which included showering naked in front of them at his home. that leaves just \"good morning america\" host george stephanopoulos as the remaining male anchor of the big three network morning shows.allegations of sexual misconduct have rocked several media companies over the past year, including disney, npr, and fox news.nbc fires senior executive, who was matt lauer’s booker, for 'inappropriate conduct' with womenlauer married annette roque in 1998. she filed for divorce in 2006 and accused the anchor of \"cruel and inhumane\" behavior before withdrawing her petition one month later after reaching a private agreement. they have three children.according to page six, lauer and roque live separate lives.fox news' diana falzone contributed to this report.\n",
      "\n",
      "Generated Left-Leaning Article:\n",
      " On the same day the giant Christmas tree was scheduled to be lit outside the NBC studios at Rockefeller Center in New York City, the network took significant action by parting ways with one of its prominent figures. Matt Lauer was dismissed on Wednesday after a courageous individual came forward about his alleged misconduct. This revelation of inappropriate sexual behavior by Lauer, the long-time \"Today Show\" host, triggered a swift response from NBC management.\n",
      "\n",
      "The alleged incident reportedly occurred at the 2014 Sochi Olympics, and the victim described further inappropriate behavior from Lauer that persisted in the workplace after the games. NBC News took swift action following a detailed complaint, leading to Lauer's prompt removal. The victim's attorney, Ari Wilkenfeld, commended NBC's response but urged further efforts to support the victim and any other women who may share similar experiences.\n",
      "\n",
      "The difficult task of announcing Lauer's departure fell upon his co-anchors Savannah Guthrie and Hoda Kotb, who described the news as saddening and emphasized NBC's commitment to upholding workplace standards. The announcement highlighted the importance of creating a safe and respectful environment for all employees, demonstrating a zero-tolerance approach towards misconduct.\n",
      "\n",
      "In the wake of Lauer's dismissal, NBC swiftly removed his presence from their social media platforms, redirecting focus onto the remaining hosts. Guthrie and Kotb, visibly affected by the news, communicated their shock and expressed solidarity with the victim and any others who may come forward.\n",
      "\n",
      "Guthrie and Kotb affirmed NBC's pledge to cover the story with journalistic integrity, promising further updates as more information unfolds. The public condemnation of Lauer's actions was not limited to his colleagues; even President Trump weighed in on the incident as the news spread.\n",
      "\n",
      "The termination of Lauer's contract, amid a wave of allegations across various media platforms, including Disney, NPR, and Fox News, marks a shift towards accountability in the industry. This move follows the recent dismissal of another prominent TV host, Charlie Rose, signaling a growing intolerance for inappropriate behavior.\n",
      "\n",
      "Lauer's personal history, including previous marital troubles with Annette Roque, underlines the complexities of his character. Fox News' report provided additional context to this developing story.\n"
     ]
    }
   ],
   "source": [
    "right_article = right_articles.iloc[18]\n",
    "left_article = generate_left_version(right_article)\n",
    "\n",
    "print(\"Original Right-Leaning Article:\\n\", right_article)\n",
    "print(\"\\nGenerated Left-Leaning Article:\\n\", left_article)"
   ]
  },
  {
   "cell_type": "markdown",
   "metadata": {},
   "source": [
    "### Conclusion: Article Generation and Sentiment Analysis\n",
    "\n",
    "In the comparison of sentiment and semantic similarity between **right-leaning** and **left-leaning** articles, the following observations were made:\n",
    "\n",
    "#### Example 1:\n",
    "- **Right Article Sentiment Score**: -0.653  \n",
    "- **Left Article Sentiment Score**: -0.557  \n",
    "- **Cosine Similarity**: 0.922\n",
    "\n",
    "#### Example 2:\n",
    "- **Right Article Sentiment Score**: -0.624  \n",
    "- **Left Article Sentiment Score**: -0.552  \n",
    "- **Cosine Similarity**: 0.864\n",
    "\n",
    "#### Key Insights:\n",
    "- **Sentiment Scores**: In both examples, the **right-leaning articles** display slightly more **negative sentiment** compared to the **left-leaning** versions. This is consistent with previous findings that media narratives often adopt a more emotional or negative tone.\n",
    "- **Cosine Similarity**: The **cosine similarity** scores indicate a high degree of **semantic similarity** between the original and generated articles. The values (ranging from **0.864 to 0.922**) suggest that, despite stylistic and ideological shifts, the generated left-leaning articles maintain a strong alignment with the factual content of the original right-leaning articles.\n",
    "  \n",
    "#### Topic Dependence:\n",
    "- The **sentiment difference** between right- and left-leaning articles varies depending on the topic. For some topics, right-leaning articles may exhibit more **positive sentiment**, while for others, they may lean more negative. This variability highlights the **context-dependent nature** of sentiment in political discourse.\n",
    "\n",
    "These results suggest that while ideological reframing through **GPT-3.5 Turbo** can successfully alter the **tone** of an article, the **underlying sentiment** can shift differently depending on the subject matter. The high **semantic similarity** indicates that the model preserves the core information even when reinterpreting the narrative.\n"
   ]
  },
  {
   "cell_type": "markdown",
   "metadata": {},
   "source": [
    "# Final Conclusion\n",
    "\n",
    "The analyses of **emotion**, **sentiment**, and **sensationalism** across different political leanings reveal consistent patterns, with subtle nuances depending on the specific topic. \n",
    "\n",
    "- **Sentiment**: Right-leaning articles often exhibit **more negative sentiment**, though this can vary depending on the topic.\n",
    "- **Emotion**: Negative emotions like **anger** and **sadness** are more pronounced in **right-leaning** content, while **fear** is more prominent in **center-leaning** articles.\n",
    "- **Sensationalism**: **Right-leaning** articles were found to be more sensationalistic, while **center-leaning** articles showed the least sensationalism.\n",
    "\n",
    "The use of **GPT-3.5 Turbo** for generating left-leaning articles from right-leaning ones demonstrated **high semantic similarity** (0.86–0.92), but subtle changes in **sentiment** were observed. This suggests that ideological shifts can be achieved without significant loss of factual content, though the **emotional tone** is influenced by the model’s framing.\n",
    "\n",
    "### Suggestions for Improvement:\n",
    "1. **Broaden the sample**: Increase the dataset size for a more robust sentiment and emotion analysis.\n",
    "2. **Topic-specific analysis**: Conduct topic-based analyses to understand how sentiment and emotions differ for different issues.\n",
    "3. **Hybrid models**: Experiment with hybrid approaches combining both **GPT-based** and **DistilBERT-based** methods for emotion classification to balance accuracy and interpretability.\n",
    "4. **Evaluation metrics**: Explore additional metrics such as **perplexity** and **topic modeling** to better understand framing changes.\n",
    "\n",
    "These improvements could refine the insights and help achieve more accurate, nuanced conclusions.\n"
   ]
  },
  {
   "cell_type": "markdown",
   "metadata": {},
   "source": [
    "### Why GPT and DistilBERT Yielded These Results\n",
    "\n",
    "The results of sentiment, emotion, and sensationalism analyses can be attributed to how models like **GPT-3.5 Turbo** and **DistilBERT** are trained and how they process text. \n",
    "\n",
    "1. **Pre-trained Biases**: Both models are pre-trained on vast corpora of text from the internet. Since much of the content they were trained on comes from diverse sources with varying political ideologies, they inevitably pick up on patterns and biases inherent in the language. For instance, **right-leaning content** tends to use more **strong, emotional language**, which the model associates with negative emotions and sensationalistic tones.\n",
    "   \n",
    "2. **Language Patterns**: **DistilBERT** is a **transformer-based model** that excels at understanding context and sentiment. It tends to detect patterns that are common in the language used by different political factions. **Right-leaning articles** often include more dramatic phrasing and negative framing, which is why **DistilBERT** might identify them as more **negative** or **sensational** compared to the **center** or **left**.\n",
    "\n",
    "3. **Model Design**: The **GPT-3.5 Turbo** model, known for generating coherent and human-like text, is designed to predict the next token based on preceding tokens. When tasked with generating content with a specific political leaning, the model essentially **reframes the tone** by amplifying or moderating the sentiment based on its training data. This can lead to subtle shifts in sentiment and emotion, depending on the ideological framing the model is instructed to follow.\n",
    "\n",
    "4. **Emotion Detection**: Both models detect emotions based on the frequency and intensity of words or phrases that are typically associated with specific emotional categories. For example, **anger** and **sadness** are often more prominent in **right-leaning** content due to the **framing of issues** in a crisis-driven or conflict-oriented way, a common rhetorical technique in political discourse. \n",
    "\n",
    "Thus, the results reflect **how these models encode the societal language norms** and emotional cues they have been exposed to, rather than being purely objective analyses of the content.\n"
   ]
  },
  {
   "cell_type": "code",
   "execution_count": null,
   "metadata": {},
   "outputs": [],
   "source": []
  }
 ],
 "metadata": {
  "kernelspec": {
   "display_name": "Python (tf_env)",
   "language": "python",
   "name": "tf_env"
  },
  "language_info": {
   "codemirror_mode": {
    "name": "ipython",
    "version": 3
   },
   "file_extension": ".py",
   "mimetype": "text/x-python",
   "name": "python",
   "nbconvert_exporter": "python",
   "pygments_lexer": "ipython3",
   "version": "3.8.19"
  }
 },
 "nbformat": 4,
 "nbformat_minor": 2
}
